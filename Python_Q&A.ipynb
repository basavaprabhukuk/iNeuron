{
 "cells": [
  {
   "cell_type": "code",
   "execution_count": 84,
   "id": "7c4e3a70-2bd1-4610-a6d7-0342f28dd130",
   "metadata": {},
   "outputs": [],
   "source": [
    "def outer_fun(func):\n",
    "    message = \"Hi in func\"\n",
    "    \n",
    "    def inner_func():\n",
    "        print(\"Hi inner func-Execution\")\n",
    "        func()\n",
    "        print(\"Hi inner func-End\")\n",
    "    return inner_func"
   ]
  },
  {
   "cell_type": "code",
   "execution_count": 85,
   "id": "319a1f99-bc68-4bd2-b96f-5836372c505f",
   "metadata": {},
   "outputs": [],
   "source": [
    "def print_msg():\n",
    "    print(\"Inside print_msg() function\")"
   ]
  },
  {
   "cell_type": "code",
   "execution_count": 86,
   "id": "1f09b50c-8fd6-42a4-ba7a-af6cc78e0e0c",
   "metadata": {},
   "outputs": [
    {
     "name": "stdout",
     "output_type": "stream",
     "text": [
      "Hi inner func-Execution\n",
      "Inside print_msg() function\n",
      "Hi inner func-End\n"
     ]
    }
   ],
   "source": [
    "print_msg=outer_fun(print_msg)\n",
    "print_msg()"
   ]
  },
  {
   "cell_type": "code",
   "execution_count": null,
   "id": "9b15007c-9813-4f86-855b-90b36fa48497",
   "metadata": {},
   "outputs": [],
   "source": []
  },
  {
   "cell_type": "code",
   "execution_count": null,
   "id": "48a9ee05-5388-4444-8057-833caeff00bc",
   "metadata": {},
   "outputs": [],
   "source": [
    "def outer_fun2():\n",
    "    message = \"Hi in fun2\"\n",
    "    \n",
    "    def inner_func2():\n",
    "        print(message)\n",
    "    return inner_func2()"
   ]
  },
  {
   "cell_type": "code",
   "execution_count": 48,
   "id": "02e409e7-e5bd-44e6-a5f9-a9c3470b52e4",
   "metadata": {},
   "outputs": [
    {
     "name": "stdout",
     "output_type": "stream",
     "text": [
      "Hi in fun2\n"
     ]
    }
   ],
   "source": [
    "k=outer_fun2()\n"
   ]
  },
  {
   "cell_type": "code",
   "execution_count": 16,
   "id": "f09886dc-13fb-43bd-b1a3-8c392cfd3408",
   "metadata": {},
   "outputs": [],
   "source": [
    "def printer():\n",
    "    print(\"Hello world\")"
   ]
  },
  {
   "cell_type": "code",
   "execution_count": 17,
   "id": "6eac5c56-2115-4eaa-ba97-01dbe086cd5f",
   "metadata": {},
   "outputs": [
    {
     "name": "stdout",
     "output_type": "stream",
     "text": [
      "Hello world\n"
     ]
    }
   ],
   "source": [
    "printer()"
   ]
  },
  {
   "cell_type": "code",
   "execution_count": 19,
   "id": "4dc7f8c3-db98-49c1-ab00-d82bab828d11",
   "metadata": {},
   "outputs": [],
   "source": [
    "def display_info(func):\n",
    "    def inner():\n",
    "        print(\"Executing \", func.__name__,\"function\")\n",
    "        func()\n",
    "        print(\"finsih execution\")\n",
    "    return inner"
   ]
  },
  {
   "cell_type": "code",
   "execution_count": 21,
   "id": "3a3ffc67-08c3-4e3b-8c3a-e68ebbae2bf3",
   "metadata": {},
   "outputs": [],
   "source": [
    "decorated=display_info(printer)"
   ]
  },
  {
   "cell_type": "code",
   "execution_count": 22,
   "id": "f2e8ccfa-9878-4a99-838e-a4f6c620449a",
   "metadata": {},
   "outputs": [
    {
     "name": "stdout",
     "output_type": "stream",
     "text": [
      "Executing  printer function\n",
      "Hello world\n",
      "finsih execution\n"
     ]
    }
   ],
   "source": [
    "decorated()"
   ]
  },
  {
   "cell_type": "code",
   "execution_count": 23,
   "id": "35df24bf-1311-4d87-b516-ea320211376a",
   "metadata": {},
   "outputs": [],
   "source": [
    "def divied(a,b):\n",
    "    return a/b\n"
   ]
  },
  {
   "cell_type": "code",
   "execution_count": 25,
   "id": "61883028-5e5d-436b-9729-64f45d32068d",
   "metadata": {},
   "outputs": [
    {
     "data": {
      "text/plain": [
       "0.4"
      ]
     },
     "execution_count": 25,
     "metadata": {},
     "output_type": "execute_result"
    }
   ],
   "source": [
    "divied(2,5)"
   ]
  },
  {
   "cell_type": "code",
   "execution_count": 35,
   "id": "7c203d42-64a0-4ff9-9825-7dfa8b023fe1",
   "metadata": {},
   "outputs": [],
   "source": [
    "def smart_devide(func):\n",
    "    def inner(a,b):\n",
    "        print(\"I am in inner, going to divide a and b\")\n",
    "        if b==0:\n",
    "            print(\"cannot divide\")\n",
    "            return\n",
    "        return func(a,b)\n",
    "    return inner\n"
   ]
  },
  {
   "cell_type": "code",
   "execution_count": 36,
   "id": "10a67df7-f788-45f1-864c-b71ee4c2977d",
   "metadata": {},
   "outputs": [],
   "source": [
    "@smart_devide\n",
    "def divied(a,b):\n",
    "    return a/b"
   ]
  },
  {
   "cell_type": "code",
   "execution_count": 37,
   "id": "486ed34e-977f-4ac7-a7ed-9d9bc3220fb5",
   "metadata": {},
   "outputs": [
    {
     "name": "stdout",
     "output_type": "stream",
     "text": [
      "I am in inner, going to divide a and b\n",
      "cannot divide\n"
     ]
    }
   ],
   "source": [
    "divied(2,0)\n"
   ]
  },
  {
   "cell_type": "code",
   "execution_count": 34,
   "id": "0e47d667-1cfd-4a45-b773-6979851c2d3e",
   "metadata": {},
   "outputs": [],
   "source": [
    "def printer(msg):\n",
    "    print(msg)\n",
    "    "
   ]
  },
  {
   "cell_type": "code",
   "execution_count": 38,
   "id": "d0cd3f2d-616d-4a4f-89c1-f4d2f2db7236",
   "metadata": {},
   "outputs": [],
   "source": [
    "def star(func):\n",
    "    def inner(*args,**kwargs):\n",
    "        print(\"*\"*30)\n",
    "        func(*args,**kwargs)\n",
    "        print(\"*\"*30)\n",
    "    return inner"
   ]
  },
  {
   "cell_type": "code",
   "execution_count": 39,
   "id": "b8cbd25d-3481-4c6c-bf21-e00e53da6897",
   "metadata": {},
   "outputs": [],
   "source": [
    "def percentage(func):\n",
    "    def inner(*args,**kwargs):\n",
    "        print(\"%\"*30)\n",
    "        func(*args,**kwargs)\n",
    "        print(\"%\"*30)\n",
    "    return inner"
   ]
  },
  {
   "cell_type": "code",
   "execution_count": 41,
   "id": "79a831a9-2808-48fa-8cc3-99a427ebdf41",
   "metadata": {},
   "outputs": [],
   "source": [
    "def star(func):\n",
    "    def inner(*args,**kwargs):\n",
    "        print(\"*\"*30)\n",
    "        func(*args,**kwargs)\n",
    "        print(\"*\"*30)\n",
    "    return inner\n",
    "\n",
    "def percentage(func):\n",
    "    def inner(*args,**kwargs):\n",
    "        print(\"%\"*30)\n",
    "        func(*args,**kwargs)\n",
    "        print(\"%\"*30)\n",
    "    return inner\n",
    "@star\n",
    "@percentage\n",
    "def printer(msg):\n",
    "    print(msg)"
   ]
  },
  {
   "cell_type": "code",
   "execution_count": 42,
   "id": "2471d0b7-6f9a-422c-ab68-0bcec78b2273",
   "metadata": {},
   "outputs": [
    {
     "name": "stdout",
     "output_type": "stream",
     "text": [
      "******************************\n",
      "%%%%%%%%%%%%%%%%%%%%%%%%%%%%%%\n",
      "Hello\n",
      "%%%%%%%%%%%%%%%%%%%%%%%%%%%%%%\n",
      "******************************\n"
     ]
    }
   ],
   "source": [
    "printer(\"Hello\")"
   ]
  },
  {
   "cell_type": "code",
   "execution_count": 81,
   "id": "3327d277-e847-4a20-99b4-30f363639176",
   "metadata": {},
   "outputs": [
    {
     "name": "stdout",
     "output_type": "stream",
     "text": [
      "Prabhu \n",
      "Prabhu Prabhu \n",
      "Prabhu Prabhu Prabhu \n",
      "Prabhu Prabhu Prabhu Prabhu \n",
      "Prabhu Prabhu Prabhu Prabhu Prabhu \n"
     ]
    }
   ],
   "source": [
    "n=5\n",
    "\n",
    "for i in range(n):\n",
    "    print(\"Prabhu \" *(i+1)) "
   ]
  },
  {
   "cell_type": "code",
   "execution_count": null,
   "id": "557afb6d-ed8e-4f49-ae03-e082a5d3aa0c",
   "metadata": {},
   "outputs": [],
   "source": []
  }
 ],
 "metadata": {
  "kernelspec": {
   "display_name": "Python 3 (ipykernel)",
   "language": "python",
   "name": "python3"
  },
  "language_info": {
   "codemirror_mode": {
    "name": "ipython",
    "version": 3
   },
   "file_extension": ".py",
   "mimetype": "text/x-python",
   "name": "python",
   "nbconvert_exporter": "python",
   "pygments_lexer": "ipython3",
   "version": "3.10.6"
  }
 },
 "nbformat": 4,
 "nbformat_minor": 5
}
