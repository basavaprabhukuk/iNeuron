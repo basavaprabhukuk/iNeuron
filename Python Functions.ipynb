{
 "cells": [
  {
   "cell_type": "code",
   "execution_count": 29,
   "id": "84452547-fed0-4fc9-89de-2e4f91e46043",
   "metadata": {},
   "outputs": [],
   "source": [
    "def test1(func):\n",
    "    def test2():\n",
    "        print(\"I am inside test2\")\n",
    "        print(func())\n",
    "        print(\"test2 func executed\")\n",
    "    return test2"
   ]
  },
  {
   "cell_type": "code",
   "execution_count": 19,
   "id": "c5295486-043f-45eb-b184-d0c61672e6e1",
   "metadata": {},
   "outputs": [],
   "source": [
    "\n",
    "def test3():\n",
    "    print(\"this is my test3\")"
   ]
  },
  {
   "cell_type": "code",
   "execution_count": 27,
   "id": "48ee3f0f-fcfe-4325-b440-fcc91399f4d4",
   "metadata": {},
   "outputs": [
    {
     "name": "stdout",
     "output_type": "stream",
     "text": [
      "I am inside test2\n",
      "this is my test3\n",
      "test2 func executed\n"
     ]
    }
   ],
   "source": [
    "test1(test3)"
   ]
  },
  {
   "cell_type": "code",
   "execution_count": 31,
   "id": "9708da83-8530-4f95-b254-a94e13e59e3f",
   "metadata": {},
   "outputs": [],
   "source": [
    "@test1\n",
    "def test4():\n",
    "    return 5+6"
   ]
  },
  {
   "cell_type": "code",
   "execution_count": 32,
   "id": "dff3c1d0-dc0f-4df2-a86f-781dfec01990",
   "metadata": {},
   "outputs": [
    {
     "name": "stdout",
     "output_type": "stream",
     "text": [
      "I am inside test2\n",
      "11\n",
      "test2 func executed\n"
     ]
    }
   ],
   "source": [
    "test4()"
   ]
  },
  {
   "cell_type": "code",
   "execution_count": 33,
   "id": "cab41dad-b655-4824-b9a6-b8cb2d950eda",
   "metadata": {},
   "outputs": [
    {
     "name": "stdout",
     "output_type": "stream",
     "text": [
      "I am inside test2\n",
      "11\n",
      "test2 func executed\n"
     ]
    },
    {
     "ename": "TypeError",
     "evalue": "unsupported operand type(s) for +: 'NoneType' and 'int'",
     "output_type": "error",
     "traceback": [
      "\u001b[0;31m---------------------------------------------------------------------------\u001b[0m",
      "\u001b[0;31mTypeError\u001b[0m                                 Traceback (most recent call last)",
      "Cell \u001b[0;32mIn [33], line 1\u001b[0m\n\u001b[0;32m----> 1\u001b[0m \u001b[43mtest4\u001b[49m\u001b[43m(\u001b[49m\u001b[43m)\u001b[49m\u001b[38;5;241;43m+\u001b[39;49m\u001b[38;5;241;43m12\u001b[39;49m\n",
      "\u001b[0;31mTypeError\u001b[0m: unsupported operand type(s) for +: 'NoneType' and 'int'"
     ]
    }
   ],
   "source": [
    "test4()+12"
   ]
  },
  {
   "cell_type": "code",
   "execution_count": 34,
   "id": "1fe1b411-d36e-4741-980a-a74f7eabd155",
   "metadata": {},
   "outputs": [],
   "source": [
    "# When using return it returns the NONE type\n"
   ]
  },
  {
   "cell_type": "code",
   "execution_count": 35,
   "id": "bbcdd01a-e004-4cd2-bc44-f7e1668e7608",
   "metadata": {},
   "outputs": [],
   "source": [
    "def test5():\n",
    "    return 6+5"
   ]
  },
  {
   "cell_type": "code",
   "execution_count": 36,
   "id": "bfbd46d9-fbea-4a3c-ae58-8720a00a24f0",
   "metadata": {},
   "outputs": [
    {
     "data": {
      "text/plain": [
       "15"
      ]
     },
     "execution_count": 36,
     "metadata": {},
     "output_type": "execute_result"
    }
   ],
   "source": [
    "test5()+4"
   ]
  },
  {
   "cell_type": "code",
   "execution_count": 37,
   "id": "d447535d-a86e-4a5e-b5eb-78fa40628f2e",
   "metadata": {},
   "outputs": [
    {
     "data": {
      "text/plain": [
       "int"
      ]
     },
     "execution_count": 37,
     "metadata": {},
     "output_type": "execute_result"
    }
   ],
   "source": [
    "type(test5())"
   ]
  },
  {
   "cell_type": "code",
   "execution_count": 40,
   "id": "996fd485-828c-4341-8e91-2fc9281473f7",
   "metadata": {},
   "outputs": [
    {
     "name": "stdout",
     "output_type": "stream",
     "text": [
      "I am inside test2\n",
      "11\n",
      "test2 func executed\n"
     ]
    },
    {
     "data": {
      "text/plain": [
       "NoneType"
      ]
     },
     "execution_count": 40,
     "metadata": {},
     "output_type": "execute_result"
    }
   ],
   "source": [
    "type(test4())"
   ]
  },
  {
   "cell_type": "code",
   "execution_count": 51,
   "id": "034a8738-a688-4528-a9c9-f74f956619c6",
   "metadata": {},
   "outputs": [],
   "source": [
    "def test1(func):\n",
    "    def test2():\n",
    "        print(\"I am inside test2\")\n",
    "        print(func())\n",
    "        print(\"test2 func executed\")\n",
    "        return func() # by adding the return making it NOT None type\n",
    "    return test2"
   ]
  },
  {
   "cell_type": "code",
   "execution_count": 49,
   "id": "0a0e8849-22ce-4b2c-85a2-bcbd0e04e356",
   "metadata": {},
   "outputs": [],
   "source": [
    "@test1 #Decorator\n",
    "def test5():\n",
    "    return 6+5"
   ]
  },
  {
   "cell_type": "code",
   "execution_count": 57,
   "id": "62073d57-4d6a-401b-b0c2-75db152334f3",
   "metadata": {},
   "outputs": [
    {
     "name": "stdout",
     "output_type": "stream",
     "text": [
      "I am inside test2\n",
      "11\n",
      "test2 func executed\n"
     ]
    },
    {
     "data": {
      "text/plain": [
       "68"
      ]
     },
     "execution_count": 57,
     "metadata": {},
     "output_type": "execute_result"
    }
   ],
   "source": [
    "test5()+57 #Using decorator doing the primitive operations\n",
    "# have the retun statment in the decorator"
   ]
  },
  {
   "cell_type": "code",
   "execution_count": 55,
   "id": "91c082e6-da13-4e11-a685-a44021ba8d63",
   "metadata": {},
   "outputs": [],
   "source": [
    "@test1\n",
    "def test8(a,b):\n",
    "    return a+b"
   ]
  },
  {
   "cell_type": "code",
   "execution_count": 56,
   "id": "4b2493bb-83cb-4a5f-99df-662ecf5daa81",
   "metadata": {},
   "outputs": [
    {
     "ename": "TypeError",
     "evalue": "test1.<locals>.test2() takes 0 positional arguments but 2 were given",
     "output_type": "error",
     "traceback": [
      "\u001b[0;31m---------------------------------------------------------------------------\u001b[0m",
      "\u001b[0;31mTypeError\u001b[0m                                 Traceback (most recent call last)",
      "Cell \u001b[0;32mIn [56], line 1\u001b[0m\n\u001b[0;32m----> 1\u001b[0m \u001b[43mtest8\u001b[49m\u001b[43m(\u001b[49m\u001b[38;5;241;43m2\u001b[39;49m\u001b[43m,\u001b[49m\u001b[38;5;241;43m3\u001b[39;49m\u001b[43m)\u001b[49m\n",
      "\u001b[0;31mTypeError\u001b[0m: test1.<locals>.test2() takes 0 positional arguments but 2 were given"
     ]
    }
   ],
   "source": [
    "test8(2,3)"
   ]
  },
  {
   "cell_type": "code",
   "execution_count": 61,
   "id": "6b775599-fbcf-4334-9aee-f3b369809ecc",
   "metadata": {},
   "outputs": [],
   "source": [
    "def test1(func):\n",
    "    def test2(*args):\n",
    "        print(\"I am inside test2\")\n",
    "        print(func(*args))\n",
    "        print(\"test2 func executed\")\n",
    "        return func(*args) # by adding the return making it NOT None type\n",
    "    return test2"
   ]
  },
  {
   "cell_type": "code",
   "execution_count": 62,
   "id": "414c9144-c1a0-43a9-b685-b5678d8a0ace",
   "metadata": {},
   "outputs": [],
   "source": [
    "@test1\n",
    "def test8(a,b):\n",
    "    return a+b"
   ]
  },
  {
   "cell_type": "code",
   "execution_count": 63,
   "id": "6953c417-749d-4255-94a5-48a4d85db131",
   "metadata": {},
   "outputs": [
    {
     "name": "stdout",
     "output_type": "stream",
     "text": [
      "I am inside test2\n",
      "5\n",
      "test2 func executed\n"
     ]
    },
    {
     "data": {
      "text/plain": [
       "5"
      ]
     },
     "execution_count": 63,
     "metadata": {},
     "output_type": "execute_result"
    }
   ],
   "source": [
    "test8(2,3)"
   ]
  },
  {
   "cell_type": "code",
   "execution_count": 64,
   "id": "f727abed-c558-4563-a2b8-0a95283f8ac1",
   "metadata": {},
   "outputs": [],
   "source": [
    "#By adding the *args in the wrapper function\n",
    "#to solve the above problem"
   ]
  },
  {
   "cell_type": "code",
   "execution_count": 65,
   "id": "0f5b0965-05d1-4b91-8262-5f1038580511",
   "metadata": {},
   "outputs": [],
   "source": [
    "@test1\n",
    "def test9(**kwargs):\n",
    "    return kwargs\n"
   ]
  },
  {
   "cell_type": "code",
   "execution_count": 66,
   "id": "1a76ec33-ccbe-433b-98ce-9c2fb812995a",
   "metadata": {},
   "outputs": [
    {
     "ename": "TypeError",
     "evalue": "test1.<locals>.test2() got an unexpected keyword argument 'a'",
     "output_type": "error",
     "traceback": [
      "\u001b[0;31m---------------------------------------------------------------------------\u001b[0m",
      "\u001b[0;31mTypeError\u001b[0m                                 Traceback (most recent call last)",
      "Cell \u001b[0;32mIn [66], line 1\u001b[0m\n\u001b[0;32m----> 1\u001b[0m \u001b[43mtest9\u001b[49m\u001b[43m(\u001b[49m\u001b[43ma\u001b[49m\u001b[38;5;241;43m=\u001b[39;49m\u001b[38;5;241;43m8\u001b[39;49m\u001b[43m,\u001b[49m\u001b[43mb\u001b[49m\u001b[38;5;241;43m=\u001b[39;49m\u001b[38;5;241;43m9\u001b[39;49m\u001b[43m)\u001b[49m\n",
      "\u001b[0;31mTypeError\u001b[0m: test1.<locals>.test2() got an unexpected keyword argument 'a'"
     ]
    }
   ],
   "source": [
    "test9(a=8,b=9)"
   ]
  },
  {
   "cell_type": "code",
   "execution_count": 67,
   "id": "4d45c47c-84b9-4265-9ff5-507c619a4f8c",
   "metadata": {},
   "outputs": [],
   "source": [
    "#Solve above "
   ]
  },
  {
   "cell_type": "code",
   "execution_count": 68,
   "id": "7fcee8cc-7916-4c3d-a070-7f3915839960",
   "metadata": {},
   "outputs": [],
   "source": [
    "def test1(func):\n",
    "    def test2(*args,**kwargs):\n",
    "        print(\"I am inside test2\")\n",
    "        print(func(*args,**kwargs))\n",
    "        print(\"test2 func executed\")\n",
    "        return func(*args,**kwargs) # by adding the return making it NOT None type\n",
    "    return test2"
   ]
  },
  {
   "cell_type": "code",
   "execution_count": 79,
   "id": "10de1b17-6752-4c64-90e7-a1fafd65fefb",
   "metadata": {},
   "outputs": [],
   "source": [
    "@test1\n",
    "def test9(**kwargs):\n",
    "    return kwargs\n"
   ]
  },
  {
   "cell_type": "code",
   "execution_count": 80,
   "id": "71bb2b47-918a-43ee-9695-de5d37c72e1b",
   "metadata": {},
   "outputs": [
    {
     "name": "stdout",
     "output_type": "stream",
     "text": [
      "I am inside test2\n",
      "{'a': 10, 'b': 20}\n",
      "test2 func executed\n"
     ]
    },
    {
     "data": {
      "text/plain": [
       "{'a': 10, 'b': 20}"
      ]
     },
     "execution_count": 80,
     "metadata": {},
     "output_type": "execute_result"
    }
   ],
   "source": [
    "test9(a=10,b=20)"
   ]
  },
  {
   "cell_type": "code",
   "execution_count": 81,
   "id": "f17ffeab-15bc-43f5-9312-d8c974a51aeb",
   "metadata": {},
   "outputs": [],
   "source": [
    "#Lambda function"
   ]
  },
  {
   "cell_type": "code",
   "execution_count": 83,
   "id": "8499676b-3d19-4761-ad0a-6488ee924c9c",
   "metadata": {},
   "outputs": [],
   "source": [
    "c = lambda a,b: a+b"
   ]
  },
  {
   "cell_type": "code",
   "execution_count": 86,
   "id": "78dc5ed2-b800-4e69-bd25-bd6df7635960",
   "metadata": {},
   "outputs": [
    {
     "data": {
      "text/plain": [
       "'Basava Prabhu '"
      ]
     },
     "execution_count": 86,
     "metadata": {},
     "output_type": "execute_result"
    }
   ],
   "source": [
    "c(\"Basava \", \"Prabhu \")"
   ]
  },
  {
   "cell_type": "code",
   "execution_count": 97,
   "id": "e4c7b06f-4742-4b1a-a0d7-f2bc0c6972bf",
   "metadata": {},
   "outputs": [],
   "source": [
    "e = lambda *args : args"
   ]
  },
  {
   "cell_type": "code",
   "execution_count": 98,
   "id": "056a5ccd-9add-4aa2-b665-161f0bddde78",
   "metadata": {},
   "outputs": [
    {
     "data": {
      "text/plain": [
       "(2, 3)"
      ]
     },
     "execution_count": 98,
     "metadata": {},
     "output_type": "execute_result"
    }
   ],
   "source": [
    "e (2,3)"
   ]
  },
  {
   "cell_type": "code",
   "execution_count": 94,
   "id": "aa9c98a7-8334-40f2-b351-e3a44da70eea",
   "metadata": {},
   "outputs": [
    {
     "data": {
      "text/plain": [
       "(2, 2)"
      ]
     },
     "execution_count": 94,
     "metadata": {},
     "output_type": "execute_result"
    }
   ],
   "source": [
    "e(2)"
   ]
  },
  {
   "cell_type": "code",
   "execution_count": 99,
   "id": "2e93aba0-4bf8-4471-8a27-b14e4023be6f",
   "metadata": {},
   "outputs": [],
   "source": [
    "#Map reduce"
   ]
  },
  {
   "cell_type": "code",
   "execution_count": 100,
   "id": "ec5ffb8f-9d5c-49cc-aaa7-2d258e57a57a",
   "metadata": {},
   "outputs": [],
   "source": [
    "#Mapper map()"
   ]
  },
  {
   "cell_type": "code",
   "execution_count": 101,
   "id": "1747da9f-b6f9-4028-bcb6-91f4a37f5e80",
   "metadata": {},
   "outputs": [],
   "source": [
    "l = [1,2,3,4,5,6,7]"
   ]
  },
  {
   "cell_type": "code",
   "execution_count": 102,
   "id": "77edcbf8-297b-42ac-affd-5472b0a27631",
   "metadata": {},
   "outputs": [],
   "source": [
    "#Every element add 10 and return the list"
   ]
  },
  {
   "cell_type": "code",
   "execution_count": 103,
   "id": "622e8e1e-cebc-4b3e-8dc8-637360a2abef",
   "metadata": {},
   "outputs": [],
   "source": [
    "#l = [11,12,13,14,15,16,17]"
   ]
  },
  {
   "cell_type": "code",
   "execution_count": 105,
   "id": "cec3a8c2-c441-4e40-aa25-5c2757b8d3e2",
   "metadata": {},
   "outputs": [
    {
     "data": {
      "text/plain": [
       "[11, 12, 13, 14, 15, 16, 17]"
      ]
     },
     "execution_count": 105,
     "metadata": {},
     "output_type": "execute_result"
    }
   ],
   "source": [
    "l1=[]\n",
    "for i in l:\n",
    "    l1.append(i+10)\n",
    "l1"
   ]
  },
  {
   "cell_type": "code",
   "execution_count": 107,
   "id": "a7db0b19-96a4-448c-9eac-363a76e5b196",
   "metadata": {},
   "outputs": [
    {
     "data": {
      "text/plain": [
       "[11, 12, 13, 14, 15, 16, 17]"
      ]
     },
     "execution_count": 107,
     "metadata": {},
     "output_type": "execute_result"
    }
   ],
   "source": [
    "list(map( lambda a:a+10 , l))"
   ]
  },
  {
   "cell_type": "code",
   "execution_count": 112,
   "id": "749bec8d-bb44-483b-8bd2-cc996d1b1cb9",
   "metadata": {},
   "outputs": [],
   "source": [
    "l2 = [\"basava\", \"Prabhu1\"]"
   ]
  },
  {
   "cell_type": "code",
   "execution_count": 109,
   "id": "c206a7cd-5f12-4b89-b7a3-a1e2e8b29f2a",
   "metadata": {},
   "outputs": [
    {
     "data": {
      "text/plain": [
       "['BASAVA', 'PRABHU']"
      ]
     },
     "execution_count": 109,
     "metadata": {},
     "output_type": "execute_result"
    }
   ],
   "source": [
    "list(map(str.upper,l2))"
   ]
  },
  {
   "cell_type": "code",
   "execution_count": 113,
   "id": "c0817870-d61b-4893-b25b-25acf4c64ab3",
   "metadata": {},
   "outputs": [
    {
     "data": {
      "text/plain": [
       "[6, 7]"
      ]
     },
     "execution_count": 113,
     "metadata": {},
     "output_type": "execute_result"
    }
   ],
   "source": [
    "list(map(len,l2))"
   ]
  },
  {
   "cell_type": "code",
   "execution_count": 114,
   "id": "a85b00d8-f4f7-4fbb-b90a-3c8d9079f54f",
   "metadata": {},
   "outputs": [],
   "source": [
    "#Filter function"
   ]
  },
  {
   "cell_type": "code",
   "execution_count": 118,
   "id": "6786fc41-bf7e-40a4-ab83-762ae62882ae",
   "metadata": {},
   "outputs": [],
   "source": [
    "l = [1,2,3,4,5,6,7,8]"
   ]
  },
  {
   "cell_type": "code",
   "execution_count": 127,
   "id": "0c0a0ea2-589b-4c73-89ff-60eb8dab206d",
   "metadata": {},
   "outputs": [],
   "source": [
    "l1 = []\n",
    "\n",
    "for i in l:\n",
    "    if i%2==0:\n",
    "        l1.append(i)\n",
    "        "
   ]
  },
  {
   "cell_type": "code",
   "execution_count": 122,
   "id": "19f5a43d-25c4-4396-98e0-4880c24f0ad6",
   "metadata": {},
   "outputs": [
    {
     "data": {
      "text/plain": [
       "[2, 4, 6, 8]"
      ]
     },
     "execution_count": 122,
     "metadata": {},
     "output_type": "execute_result"
    }
   ],
   "source": [
    "l1"
   ]
  },
  {
   "cell_type": "code",
   "execution_count": 131,
   "id": "bd473be1-c299-43fb-a85a-4cd9ffa03273",
   "metadata": {},
   "outputs": [],
   "source": [
    "b = lambda a :a if a %2 == 0 else None"
   ]
  },
  {
   "cell_type": "code",
   "execution_count": 132,
   "id": "5240ddbe-6285-41c2-823d-11cfd1ec357a",
   "metadata": {},
   "outputs": [
    {
     "data": {
      "text/plain": [
       "[2, 4, 6, 8]"
      ]
     },
     "execution_count": 132,
     "metadata": {},
     "output_type": "execute_result"
    }
   ],
   "source": [
    "list(filter(b,l))"
   ]
  },
  {
   "cell_type": "code",
   "execution_count": 140,
   "id": "3bea95aa-9436-41ce-a3f5-09ebf43687ef",
   "metadata": {},
   "outputs": [],
   "source": [
    "def test25(a) -> aint:\n",
    "    if a%2 == 0:\n",
    "        return True\n",
    "    else:\n",
    "        return False"
   ]
  },
  {
   "cell_type": "code",
   "execution_count": 134,
   "id": "5ac5c457-f26d-4cb2-8a2b-598d1b959f74",
   "metadata": {},
   "outputs": [
    {
     "data": {
      "text/plain": [
       "[2, 4, 6, 8]"
      ]
     },
     "execution_count": 134,
     "metadata": {},
     "output_type": "execute_result"
    }
   ],
   "source": [
    "list(filter(test25,l))"
   ]
  },
  {
   "cell_type": "code",
   "execution_count": 135,
   "id": "c27685b1-738d-4bbc-af25-6cfa3592e7a1",
   "metadata": {},
   "outputs": [],
   "source": [
    "#Reduce"
   ]
  },
  {
   "cell_type": "code",
   "execution_count": 136,
   "id": "9d95c455-26bd-4ca6-8540-0e5946ab52d8",
   "metadata": {},
   "outputs": [],
   "source": [
    "from functools import reduce\n"
   ]
  },
  {
   "cell_type": "code",
   "execution_count": 138,
   "id": "8e85ee9a-d807-4258-8dce-62d0e5fa1e59",
   "metadata": {},
   "outputs": [
    {
     "data": {
      "text/plain": [
       "40320"
      ]
     },
     "execution_count": 138,
     "metadata": {},
     "output_type": "execute_result"
    }
   ],
   "source": [
    "reduce(lambda a, b: a*b, l)"
   ]
  },
  {
   "cell_type": "code",
   "execution_count": null,
   "id": "9d844e51-5dc8-4288-a317-75e6ccaef8ec",
   "metadata": {},
   "outputs": [],
   "source": [
    "test25("
   ]
  }
 ],
 "metadata": {
  "kernelspec": {
   "display_name": "Python 3 (ipykernel)",
   "language": "python",
   "name": "python3"
  },
  "language_info": {
   "codemirror_mode": {
    "name": "ipython",
    "version": 3
   },
   "file_extension": ".py",
   "mimetype": "text/x-python",
   "name": "python",
   "nbconvert_exporter": "python",
   "pygments_lexer": "ipython3",
   "version": "3.10.6"
  }
 },
 "nbformat": 4,
 "nbformat_minor": 5
}
