{
 "cells": [
  {
   "cell_type": "code",
   "execution_count": 5,
   "id": "da6c125f-5401-4053-9d62-59fed756f057",
   "metadata": {},
   "outputs": [],
   "source": [
    "num_list = [10,20,30,40,50,60,70,70,60,60]"
   ]
  },
  {
   "cell_type": "code",
   "execution_count": 6,
   "id": "2c2b2778-7435-4487-ae5d-2bf6dd2b6d79",
   "metadata": {},
   "outputs": [
    {
     "data": {
      "text/plain": [
       "[10, 20, 30, 40, 50, 60, 70, 70, 60, 60]"
      ]
     },
     "execution_count": 6,
     "metadata": {},
     "output_type": "execute_result"
    }
   ],
   "source": [
    "num_list"
   ]
  },
  {
   "cell_type": "code",
   "execution_count": 4,
   "id": "bfab78f5-1bc2-4510-944a-ccda38b92699",
   "metadata": {},
   "outputs": [],
   "source": [
    "#Display all duplicates"
   ]
  },
  {
   "cell_type": "code",
   "execution_count": 7,
   "id": "a1525867-0b7b-4084-9dfb-891ad23cae4c",
   "metadata": {},
   "outputs": [],
   "source": [
    "i = len(num_list)"
   ]
  },
  {
   "cell_type": "code",
   "execution_count": 11,
   "id": "3c202f35-5f00-45c0-b361-fe16735a9124",
   "metadata": {},
   "outputs": [
    {
     "name": "stdout",
     "output_type": "stream",
     "text": [
      "{60, 70}\n"
     ]
    }
   ],
   "source": [
    "l = []\n",
    "for i in num_list:\n",
    "    if num_list.count(i)>1:\n",
    "        l.append(i)\n",
    "print(set(l))"
   ]
  },
  {
   "cell_type": "code",
   "execution_count": 12,
   "id": "a99a3aab-6aa9-4b36-8efe-53501fd30aa3",
   "metadata": {},
   "outputs": [],
   "source": [
    "## By using the collections to remove duplicates "
   ]
  },
  {
   "cell_type": "code",
   "execution_count": 16,
   "id": "354a1cb8-2c37-43ba-bc4b-2e79bbae9d93",
   "metadata": {},
   "outputs": [
    {
     "name": "stdout",
     "output_type": "stream",
     "text": [
      "[60, 70]\n"
     ]
    }
   ],
   "source": [
    "import collections\n",
    "num_list = [10,20,30,40,50,60,70,70,60,60]\n",
    "duplicates = []\n",
    "for item,count in collections.Counter(num_list).items():\n",
    "    if count>1:\n",
    "        duplicates.append(item)\n",
    "print(duplicates)"
   ]
  },
  {
   "cell_type": "code",
   "execution_count": 17,
   "id": "191ba5a7-e5b4-41a1-be56-94a12af4501b",
   "metadata": {},
   "outputs": [],
   "source": [
    "#38. Oueter and inner function"
   ]
  },
  {
   "cell_type": "code",
   "execution_count": 21,
   "id": "92cbb0b5-abed-4202-b86a-b1d8ce988403",
   "metadata": {},
   "outputs": [],
   "source": [
    "def outer(x,y):\n",
    "    def inner(x,y):\n",
    "        return x+y\n",
    "    z=inner(x,y)\n",
    "    return z+' Developer'"
   ]
  },
  {
   "cell_type": "code",
   "execution_count": 22,
   "id": "f9fbb3de-d76b-467d-bc2b-e0f61e914474",
   "metadata": {},
   "outputs": [
    {
     "data": {
      "text/plain": [
       "'ABCXYZ Developer'"
      ]
     },
     "execution_count": 22,
     "metadata": {},
     "output_type": "execute_result"
    }
   ],
   "source": [
    "outer('ABC','XYZ')"
   ]
  },
  {
   "cell_type": "code",
   "execution_count": 27,
   "id": "91f8f70c-0cfe-43e0-a27a-6090b9f02409",
   "metadata": {},
   "outputs": [],
   "source": [
    "#41 Print the sum of current and previous number in a range(0,10)"
   ]
  },
  {
   "cell_type": "code",
   "execution_count": 25,
   "id": "4e904d84-6c0b-49f9-9361-a1b29fe01771",
   "metadata": {},
   "outputs": [
    {
     "name": "stdout",
     "output_type": "stream",
     "text": [
      "current number 0 and previous number 0 and Sum 0\n",
      "current number 1 and previous number 0 and Sum 1\n",
      "current number 2 and previous number 1 and Sum 3\n",
      "current number 3 and previous number 2 and Sum 5\n",
      "current number 4 and previous number 3 and Sum 7\n",
      "current number 5 and previous number 4 and Sum 9\n",
      "current number 6 and previous number 5 and Sum 11\n",
      "current number 7 and previous number 6 and Sum 13\n",
      "current number 8 and previous number 7 and Sum 15\n",
      "current number 9 and previous number 8 and Sum 17\n"
     ]
    }
   ],
   "source": [
    "sum = 0\n",
    "prev = 0\n",
    "\n",
    "for i in range(0,10):\n",
    "    sum = i+prev\n",
    "    print(f\"current number {i} and previous number {prev} and Sum {sum}\")\n",
    "    prev = i\n",
    "    "
   ]
  },
  {
   "cell_type": "code",
   "execution_count": 28,
   "id": "b5782b95-376d-4c7a-9410-f6e1f97dc927",
   "metadata": {},
   "outputs": [],
   "source": [
    "#42 print charcters present in at even index"
   ]
  },
  {
   "cell_type": "code",
   "execution_count": 31,
   "id": "0a74deb9-f988-426a-a85b-d98d0e4e67be",
   "metadata": {},
   "outputs": [
    {
     "name": "stdin",
     "output_type": "stream",
     "text": [
      " Prabhu\n"
     ]
    },
    {
     "name": "stdout",
     "output_type": "stream",
     "text": [
      "P\n",
      "a\n",
      "h\n"
     ]
    }
   ],
   "source": [
    "string = input()\n",
    "\n",
    "for i in range(len(string)):\n",
    "    if i%2 ==0:\n",
    "        print(string[i])"
   ]
  },
  {
   "cell_type": "code",
   "execution_count": 38,
   "id": "23b4a541-a924-4f74-888f-b3949f4a594e",
   "metadata": {},
   "outputs": [
    {
     "name": "stdin",
     "output_type": "stream",
     "text": [
      " ineuron\n"
     ]
    },
    {
     "name": "stdout",
     "output_type": "stream",
     "text": [
      "iern\n"
     ]
    }
   ],
   "source": [
    "string = input()\n",
    "print(string[0::2])\n",
    "\n",
    " \n",
    " "
   ]
  },
  {
   "cell_type": "code",
   "execution_count": 39,
   "id": "ec9f31e7-ad32-4a96-9be0-1e454267def7",
   "metadata": {},
   "outputs": [],
   "source": [
    "#Multiplication table "
   ]
  },
  {
   "cell_type": "code",
   "execution_count": 43,
   "id": "b8c077c0-9e10-462e-adbd-99860d079de6",
   "metadata": {},
   "outputs": [
    {
     "name": "stdout",
     "output_type": "stream",
     "text": [
      "1  2  3  4  5  6  7  8  9  10  \n",
      "\n",
      "2  4  6  8  10  12  14  16  18  20  \n",
      "\n",
      "3  6  9  12  15  18  21  24  27  30  \n",
      "\n",
      "4  8  12  16  20  24  28  32  36  40  \n",
      "\n",
      "5  10  15  20  25  30  35  40  45  50  \n",
      "\n",
      "6  12  18  24  30  36  42  48  54  60  \n",
      "\n",
      "7  14  21  28  35  42  49  56  63  70  \n",
      "\n",
      "8  16  24  32  40  48  56  64  72  80  \n",
      "\n",
      "9  18  27  36  45  54  63  72  81  90  \n",
      "\n",
      "10  20  30  40  50  60  70  80  90  100  \n",
      "\n"
     ]
    }
   ],
   "source": [
    "for i in range(1,11):\n",
    "    for j in range(1,11):\n",
    "        c = i*j\n",
    "        print(f\"{c} \", end=\" \")\n",
    "    print(\"\\n\")\n",
    "    "
   ]
  },
  {
   "cell_type": "code",
   "execution_count": 44,
   "id": "b03ef3d6-025b-418d-a3cb-47112467cc2a",
   "metadata": {},
   "outputs": [],
   "source": [
    "#Lambda function"
   ]
  },
  {
   "cell_type": "code",
   "execution_count": 48,
   "id": "890c8741-f543-4346-8a25-8df19569612c",
   "metadata": {},
   "outputs": [],
   "source": [
    "c=lambda a,b : a+b+15"
   ]
  },
  {
   "cell_type": "code",
   "execution_count": 49,
   "id": "17d1f6b2-7953-4419-9347-d727652ddcd5",
   "metadata": {},
   "outputs": [
    {
     "data": {
      "text/plain": [
       "37"
      ]
     },
     "execution_count": 49,
     "metadata": {},
     "output_type": "execute_result"
    }
   ],
   "source": [
    "c(10,12)"
   ]
  },
  {
   "cell_type": "code",
   "execution_count": 50,
   "id": "09a58dd4-ad23-4485-b12f-d779471ac8f3",
   "metadata": {},
   "outputs": [],
   "source": [
    "import datetime"
   ]
  },
  {
   "cell_type": "code",
   "execution_count": 58,
   "id": "a8fd7bd6-8ea9-454e-a9b6-4627d51def51",
   "metadata": {},
   "outputs": [
    {
     "name": "stdout",
     "output_type": "stream",
     "text": [
      "2022-11-26 11:47:48.232215\n",
      "2022\n",
      "11\n",
      "26\n"
     ]
    }
   ],
   "source": [
    "now = datetime.datetime.now()\n",
    "print(now)\n",
    "year = lambda x:x.year\n",
    "month = lambda x:x.month\n",
    "day = lambda x:x.day\n",
    "\n",
    "print(year(now))\n",
    "print(month(now))\n",
    "print(day(now))"
   ]
  },
  {
   "cell_type": "code",
   "execution_count": 59,
   "id": "596f1d1c-a95f-4a73-b13f-443a01b24220",
   "metadata": {},
   "outputs": [],
   "source": [
    "x= lambda a,b,c : (b*b)-(4*a*c)"
   ]
  },
  {
   "cell_type": "code",
   "execution_count": 62,
   "id": "690d7101-f1f5-4082-8e5f-945796c70ff6",
   "metadata": {},
   "outputs": [
    {
     "data": {
      "text/plain": [
       "12"
      ]
     },
     "execution_count": 62,
     "metadata": {},
     "output_type": "execute_result"
    }
   ],
   "source": [
    "x(1,4,1)"
   ]
  },
  {
   "cell_type": "code",
   "execution_count": 74,
   "id": "009a6b55-453a-43c7-a194-7788b4dad610",
   "metadata": {},
   "outputs": [
    {
     "data": {
      "text/plain": [
       "4"
      ]
     },
     "execution_count": 74,
     "metadata": {},
     "output_type": "execute_result"
    }
   ],
   "source": [
    "l = [1,2,3,4,5,6,7,8]\n",
    "c=lambda a: a%2==0\n",
    "even = len(list(filter(c,l)))\n"
   ]
  },
  {
   "cell_type": "code",
   "execution_count": 75,
   "id": "f85bd990-5591-4ec5-aadd-c298a870d13f",
   "metadata": {},
   "outputs": [],
   "source": [
    "#49. Convert all the charcters in uppercase to lowercase"
   ]
  },
  {
   "cell_type": "code",
   "execution_count": 79,
   "id": "7ff913c6-8a51-4df1-b8bb-a92c79be0fb8",
   "metadata": {},
   "outputs": [],
   "source": [
    "def addition(a):\n",
    "    return a**2"
   ]
  },
  {
   "cell_type": "code",
   "execution_count": 82,
   "id": "0e0cdf11-8774-4199-9b74-4899275529af",
   "metadata": {},
   "outputs": [
    {
     "data": {
      "text/plain": [
       "[1, 4, 9, 16, 25, 36, 49, 64]"
      ]
     },
     "execution_count": 82,
     "metadata": {},
     "output_type": "execute_result"
    }
   ],
   "source": [
    "list(map(lambda a:a**2,l))"
   ]
  },
  {
   "cell_type": "code",
   "execution_count": 83,
   "id": "d6f9183f-8016-4182-a413-2fa9bf077e61",
   "metadata": {},
   "outputs": [],
   "source": [
    "l = ['A','B','C','C']"
   ]
  },
  {
   "cell_type": "code",
   "execution_count": 88,
   "id": "946d6eec-38a1-4ae6-aec1-db1a4e45ce97",
   "metadata": {},
   "outputs": [
    {
     "data": {
      "text/plain": [
       "['b', 'c', 'a']"
      ]
     },
     "execution_count": 88,
     "metadata": {},
     "output_type": "execute_result"
    }
   ],
   "source": [
    "list(set(list(map(lambda a:a.lower(),l))))"
   ]
  },
  {
   "cell_type": "code",
   "execution_count": null,
   "id": "4ed750f4-6480-4fb5-a863-5793b6d3ca9c",
   "metadata": {},
   "outputs": [],
   "source": []
  }
 ],
 "metadata": {
  "kernelspec": {
   "display_name": "Python 3 (ipykernel)",
   "language": "python",
   "name": "python3"
  },
  "language_info": {
   "codemirror_mode": {
    "name": "ipython",
    "version": 3
   },
   "file_extension": ".py",
   "mimetype": "text/x-python",
   "name": "python",
   "nbconvert_exporter": "python",
   "pygments_lexer": "ipython3",
   "version": "3.10.6"
  }
 },
 "nbformat": 4,
 "nbformat_minor": 5
}
