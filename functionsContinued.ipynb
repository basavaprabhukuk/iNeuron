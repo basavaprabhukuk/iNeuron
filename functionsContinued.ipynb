{
 "cells": [
  {
   "cell_type": "code",
   "execution_count": 1,
   "id": "0711e235-555b-48ed-a120-6ac9518fa7f6",
   "metadata": {},
   "outputs": [],
   "source": [
    "def test10(**kwargs):\n",
    "    return kwargs\n"
   ]
  },
  {
   "cell_type": "markdown",
   "id": "74a96f93-2cea-4fcb-a317-341a1353a270",
   "metadata": {},
   "source": [
    "Function - Take input variable name as we as values\n",
    "n number of variables "
   ]
  },
  {
   "cell_type": "code",
   "execution_count": 2,
   "id": "cfd86352-ebea-479a-841d-0f819f08be98",
   "metadata": {},
   "outputs": [
    {
     "ename": "TypeError",
     "evalue": "test10() takes 0 positional arguments but 4 were given",
     "output_type": "error",
     "traceback": [
      "\u001b[0;31m---------------------------------------------------------------------------\u001b[0m",
      "\u001b[0;31mTypeError\u001b[0m                                 Traceback (most recent call last)",
      "Cell \u001b[0;32mIn [2], line 1\u001b[0m\n\u001b[0;32m----> 1\u001b[0m \u001b[43mtest10\u001b[49m\u001b[43m(\u001b[49m\u001b[38;5;241;43m4\u001b[39;49m\u001b[43m,\u001b[49m\u001b[38;5;241;43m5\u001b[39;49m\u001b[43m,\u001b[49m\u001b[38;5;241;43m6\u001b[39;49m\u001b[43m,\u001b[49m\u001b[38;5;241;43m7\u001b[39;49m\u001b[43m)\u001b[49m\n",
      "\u001b[0;31mTypeError\u001b[0m: test10() takes 0 positional arguments but 4 were given"
     ]
    }
   ],
   "source": [
    "test10(4,5,6,7)"
   ]
  },
  {
   "cell_type": "code",
   "execution_count": 7,
   "id": "3138c6c4-0f3a-4856-a1b1-d557de595ad4",
   "metadata": {},
   "outputs": [
    {
     "data": {
      "text/plain": [
       "{'a': 4, 'b': 3, 'prabhu': [1, 2, 'e', 'r']}"
      ]
     },
     "execution_count": 7,
     "metadata": {},
     "output_type": "execute_result"
    }
   ],
   "source": [
    "\n",
    "test10(a=4,b=3,prabhu=[1,2,'e','r'])"
   ]
  },
  {
   "cell_type": "markdown",
   "id": "1b4d32fa-cf72-4eb0-96f9-80fc66662eb4",
   "metadata": {},
   "source": [
    "\n",
    " * - retur  tuples\n",
    " ** - return dictonary\n"
   ]
  },
  {
   "cell_type": "code",
   "execution_count": 5,
   "id": "8a7b065b-6a5d-4194-9200-9c2e038e068c",
   "metadata": {},
   "outputs": [
    {
     "data": {
      "text/plain": [
       "function"
      ]
     },
     "execution_count": 5,
     "metadata": {},
     "output_type": "execute_result"
    }
   ],
   "source": [
    "type(test10)"
   ]
  },
  {
   "cell_type": "raw",
   "id": "138d3abe-7119-45d9-80b7-b0a1916f69d9",
   "metadata": {},
   "source": [
    "function is first class citizen"
   ]
  },
  {
   "cell_type": "code",
   "execution_count": 14,
   "id": "a6508715-0e03-4a26-9f8f-10a6d7cc89c4",
   "metadata": {},
   "outputs": [],
   "source": [
    "def test12(a):\n",
    "    return a\n",
    "\n",
    "def test13(*args):\n",
    "    return \"pbhu\"\n",
    "\n",
    "def test14(func):\n",
    "    return func(\"func\")"
   ]
  },
  {
   "cell_type": "code",
   "execution_count": 11,
   "id": "5546be96-1bac-45dc-bbf6-30b22a1664f5",
   "metadata": {},
   "outputs": [
    {
     "ename": "TypeError",
     "evalue": "test13() takes 0 positional arguments but 1 was given",
     "output_type": "error",
     "traceback": [
      "\u001b[0;31m---------------------------------------------------------------------------\u001b[0m",
      "\u001b[0;31mTypeError\u001b[0m                                 Traceback (most recent call last)",
      "Cell \u001b[0;32mIn [11], line 1\u001b[0m\n\u001b[0;32m----> 1\u001b[0m \u001b[43mtest14\u001b[49m\u001b[43m(\u001b[49m\u001b[43mtest13\u001b[49m\u001b[43m)\u001b[49m\n",
      "Cell \u001b[0;32mIn [10], line 8\u001b[0m, in \u001b[0;36mtest14\u001b[0;34m(func)\u001b[0m\n\u001b[1;32m      7\u001b[0m \u001b[38;5;28;01mdef\u001b[39;00m \u001b[38;5;21mtest14\u001b[39m(func):\n\u001b[0;32m----> 8\u001b[0m     \u001b[38;5;28;01mreturn\u001b[39;00m \u001b[43mfunc\u001b[49m\u001b[43m(\u001b[49m\u001b[38;5;124;43m\"\u001b[39;49m\u001b[38;5;124;43mfunc\u001b[39;49m\u001b[38;5;124;43m\"\u001b[39;49m\u001b[43m)\u001b[49m\n",
      "\u001b[0;31mTypeError\u001b[0m: test13() takes 0 positional arguments but 1 was given"
     ]
    }
   ],
   "source": [
    "test14(test13)"
   ]
  },
  {
   "cell_type": "code",
   "execution_count": 15,
   "id": "bcfb6c37-9369-43d8-8970-7f333bd2886e",
   "metadata": {},
   "outputs": [
    {
     "data": {
      "text/plain": [
       "'pbhu'"
      ]
     },
     "execution_count": 15,
     "metadata": {},
     "output_type": "execute_result"
    }
   ],
   "source": [
    "test14(test13)"
   ]
  },
  {
   "cell_type": "code",
   "execution_count": 22,
   "id": "f556f1b8-f152-432a-b38f-2a517693ff28",
   "metadata": {},
   "outputs": [],
   "source": [
    "def test15():\n",
    "    print(\"test 15\")\n",
    "          \n",
    "    def test16():\n",
    "          print(\"this is 16\")\n",
    "    def test17():\n",
    "          print(\"this is 17\")"
   ]
  },
  {
   "cell_type": "code",
   "execution_count": 23,
   "id": "4be5321b-101f-4896-9742-5cb1fb643f58",
   "metadata": {},
   "outputs": [
    {
     "name": "stdout",
     "output_type": "stream",
     "text": [
      "test 15\n"
     ]
    }
   ],
   "source": [
    "test15()"
   ]
  },
  {
   "cell_type": "code",
   "execution_count": 26,
   "id": "b56b099a-0cb5-42b8-8c49-51d7881c0f3c",
   "metadata": {},
   "outputs": [],
   "source": [
    "def test15(a):\n",
    "    print(\"test 15\")\n",
    "          \n",
    "    def test16():\n",
    "          print(\"this is 16\")\n",
    "    def test17():\n",
    "          print(\"this is 17\")\n",
    "    if a==\"pbhu\":\n",
    "        return test16()\n",
    "    elif a==\"basa\":\n",
    "        return test17()"
   ]
  },
  {
   "cell_type": "code",
   "execution_count": 27,
   "id": "e19544ea-1b34-4334-a4c3-6e85632ab991",
   "metadata": {},
   "outputs": [
    {
     "name": "stdout",
     "output_type": "stream",
     "text": [
      "test 15\n",
      "this is 16\n"
     ]
    }
   ],
   "source": [
    "test15(\"pbhu\")"
   ]
  },
  {
   "cell_type": "code",
   "execution_count": 28,
   "id": "5245f0cb-c64a-4b15-ada0-ed02845011ee",
   "metadata": {},
   "outputs": [
    {
     "name": "stdout",
     "output_type": "stream",
     "text": [
      "test 15\n",
      "this is 17\n"
     ]
    }
   ],
   "source": [
    "test15(\"basa\")"
   ]
  },
  {
   "cell_type": "code",
   "execution_count": 29,
   "id": "bb2ba70a-3f97-4d56-8b76-0483a6af40a6",
   "metadata": {},
   "outputs": [],
   "source": [
    "def test18(func):\n",
    "    def test19():\n",
    "        print(\"inside 19\")\n",
    "        func()\n",
    "    return test19()"
   ]
  },
  {
   "cell_type": "code",
   "execution_count": 1,
   "id": "b365b267-6a1b-4862-815c-b25daf30b0ce",
   "metadata": {},
   "outputs": [],
   "source": [
    "def test30():\n",
    "    a= 5+9\n",
    "    return a"
   ]
  },
  {
   "cell_type": "code",
   "execution_count": 2,
   "id": "43cab586-336a-4ccb-aa8c-cdf06a3875ec",
   "metadata": {},
   "outputs": [
    {
     "data": {
      "text/plain": [
       "14"
      ]
     },
     "execution_count": 2,
     "metadata": {},
     "output_type": "execute_result"
    }
   ],
   "source": [
    "test30()"
   ]
  },
  {
   "cell_type": "code",
   "execution_count": 3,
   "id": "4e4460b4-31a2-4d68-a164-97ea85063c1b",
   "metadata": {},
   "outputs": [],
   "source": [
    "def test31(a,b):\n",
    "    return a+b"
   ]
  },
  {
   "cell_type": "code",
   "execution_count": 4,
   "id": "c77bbf14-6d72-4ce8-888e-82e662ac3262",
   "metadata": {},
   "outputs": [
    {
     "data": {
      "text/plain": [
       "5"
      ]
     },
     "execution_count": 4,
     "metadata": {},
     "output_type": "execute_result"
    }
   ],
   "source": [
    "test31(2,3)"
   ]
  },
  {
   "cell_type": "code",
   "execution_count": 6,
   "id": "81c628bf-536f-4f82-9843-e9657beee5b5",
   "metadata": {},
   "outputs": [
    {
     "data": {
      "text/plain": [
       "'basava prabhu'"
      ]
     },
     "execution_count": 6,
     "metadata": {},
     "output_type": "execute_result"
    }
   ],
   "source": [
    "test31(\"basava \",\"prabhu\")"
   ]
  },
  {
   "cell_type": "code",
   "execution_count": 8,
   "id": "f0349797-3c1b-41be-a32e-20e1fb2fe87d",
   "metadata": {},
   "outputs": [
    {
     "data": {
      "text/plain": [
       "'basava2'"
      ]
     },
     "execution_count": 8,
     "metadata": {},
     "output_type": "execute_result"
    }
   ],
   "source": [
    "test31(a=\"basava\", b= \"2\")"
   ]
  },
  {
   "cell_type": "code",
   "execution_count": 10,
   "id": "ac0b3224-649c-4f35-8f14-ad5c4e325658",
   "metadata": {},
   "outputs": [
    {
     "ename": "TypeError",
     "evalue": "test31() missing 1 required positional argument: 'b'",
     "output_type": "error",
     "traceback": [
      "\u001b[0;31m---------------------------------------------------------------------------\u001b[0m",
      "\u001b[0;31mTypeError\u001b[0m                                 Traceback (most recent call last)",
      "Cell \u001b[0;32mIn [10], line 1\u001b[0m\n\u001b[0;32m----> 1\u001b[0m \u001b[43mtest31\u001b[49m\u001b[43m(\u001b[49m\u001b[38;5;241;43m2\u001b[39;49m\u001b[43m)\u001b[49m\n",
      "\u001b[0;31mTypeError\u001b[0m: test31() missing 1 required positional argument: 'b'"
     ]
    }
   ],
   "source": [
    "test31(2)"
   ]
  },
  {
   "cell_type": "code",
   "execution_count": 11,
   "id": "7feb2bfb-7641-4dac-b681-0cb47ba4de39",
   "metadata": {},
   "outputs": [],
   "source": [
    "def test32(*args):\n",
    "    return args"
   ]
  },
  {
   "cell_type": "code",
   "execution_count": 15,
   "id": "9c2f7a2a-b815-4c24-b7ba-27cd10d2c322",
   "metadata": {},
   "outputs": [
    {
     "data": {
      "text/plain": [
       "(2, 3, 'prabhu')"
      ]
     },
     "execution_count": 15,
     "metadata": {},
     "output_type": "execute_result"
    }
   ],
   "source": [
    "test32(2,3,'prabhu')"
   ]
  },
  {
   "cell_type": "code",
   "execution_count": 13,
   "id": "e909f302-e128-459b-893f-45f4f1b977bd",
   "metadata": {},
   "outputs": [
    {
     "data": {
      "text/plain": [
       "tuple"
      ]
     },
     "execution_count": 13,
     "metadata": {},
     "output_type": "execute_result"
    }
   ],
   "source": [
    "type(test32())"
   ]
  },
  {
   "cell_type": "code",
   "execution_count": 16,
   "id": "a7fc53ea-8ba2-4bdd-b500-66f2f2a433dd",
   "metadata": {},
   "outputs": [
    {
     "data": {
      "text/plain": [
       "([1, 2, 3], 2, 3, 'prabhu')"
      ]
     },
     "execution_count": 16,
     "metadata": {},
     "output_type": "execute_result"
    }
   ],
   "source": [
    "test32([1,2,3],2,3,'prabhu')"
   ]
  },
  {
   "cell_type": "code",
   "execution_count": 17,
   "id": "872ebdb1-560f-405d-85ec-885f0b30e993",
   "metadata": {},
   "outputs": [],
   "source": [
    "def t1(*args):\n",
    "    return list(args)"
   ]
  },
  {
   "cell_type": "code",
   "execution_count": 18,
   "id": "7188580c-0a1f-4156-91fb-60bd3052ae14",
   "metadata": {},
   "outputs": [
    {
     "data": {
      "text/plain": [
       "[2, 3, 4, 5]"
      ]
     },
     "execution_count": 18,
     "metadata": {},
     "output_type": "execute_result"
    }
   ],
   "source": [
    "t1(2,3,4,5)"
   ]
  },
  {
   "cell_type": "code",
   "execution_count": 20,
   "id": "1f62f0a7-8c2d-49f0-bb2c-82a5b7301809",
   "metadata": {},
   "outputs": [
    {
     "data": {
      "text/plain": [
       "list"
      ]
     },
     "execution_count": 20,
     "metadata": {},
     "output_type": "execute_result"
    }
   ],
   "source": [
    "type(t1())"
   ]
  },
  {
   "cell_type": "markdown",
   "id": "ec77343f-7850-46a4-9636-e65d2ddba046",
   "metadata": {},
   "source": [
    "Function to accept any number of elements and return the list"
   ]
  },
  {
   "cell_type": "code",
   "execution_count": 22,
   "id": "5897d406-53a7-44be-a733-934a1a45a27c",
   "metadata": {},
   "outputs": [],
   "source": [
    "def t2(*args):\n",
    "    l =[]\n",
    "    for i in args:\n",
    "        l.append(i)\n",
    "    return l"
   ]
  },
  {
   "cell_type": "code",
   "execution_count": 23,
   "id": "dd13f8e2-a722-48a2-bf98-49c3734934b7",
   "metadata": {},
   "outputs": [
    {
     "data": {
      "text/plain": [
       "[2, 3, 4, 5]"
      ]
     },
     "execution_count": 23,
     "metadata": {},
     "output_type": "execute_result"
    }
   ],
   "source": [
    "t2(2,3,4,5)"
   ]
  },
  {
   "cell_type": "code",
   "execution_count": 24,
   "id": "058f66e8-1a72-4f11-a32a-61a3e650eeb5",
   "metadata": {},
   "outputs": [],
   "source": [
    "d={}"
   ]
  },
  {
   "cell_type": "code",
   "execution_count": 25,
   "id": "2c5e67b8-f5d3-4e3b-af02-381886290875",
   "metadata": {},
   "outputs": [
    {
     "data": {
      "text/plain": [
       "dict"
      ]
     },
     "execution_count": 25,
     "metadata": {},
     "output_type": "execute_result"
    }
   ],
   "source": [
    "type(d)"
   ]
  },
  {
   "cell_type": "code",
   "execution_count": 28,
   "id": "c9646ba5-31a0-4d13-b570-37cdddc5d99a",
   "metadata": {},
   "outputs": [],
   "source": [
    "d2 = {\"key1\": 1, \"key2\": \"Prabhu\"}"
   ]
  },
  {
   "cell_type": "code",
   "execution_count": 29,
   "id": "9cbc8e49-23c4-4959-aefc-5bd8e78d71c6",
   "metadata": {},
   "outputs": [
    {
     "data": {
      "text/plain": [
       "dict"
      ]
     },
     "execution_count": 29,
     "metadata": {},
     "output_type": "execute_result"
    }
   ],
   "source": [
    "type(d2)"
   ]
  },
  {
   "cell_type": "code",
   "execution_count": 30,
   "id": "6ea425e1-0e1d-4e7b-9c35-1c9e88bb9532",
   "metadata": {},
   "outputs": [
    {
     "data": {
      "text/plain": [
       "{'key1': 1, 'key2': 'Prabhu'}"
      ]
     },
     "execution_count": 30,
     "metadata": {},
     "output_type": "execute_result"
    }
   ],
   "source": [
    "d2"
   ]
  },
  {
   "cell_type": "code",
   "execution_count": 34,
   "id": "c432632e-7712-4a9e-832d-d7a3214b5d02",
   "metadata": {},
   "outputs": [
    {
     "data": {
      "text/plain": [
       "1"
      ]
     },
     "execution_count": 34,
     "metadata": {},
     "output_type": "execute_result"
    }
   ],
   "source": [
    "d2[\"key1\"]"
   ]
  },
  {
   "cell_type": "code",
   "execution_count": 65,
   "id": "2bad6808-ca53-482d-9513-7ab23cd00638",
   "metadata": {},
   "outputs": [],
   "source": [
    "def t6(func):\n",
    "    def t7(a,b):\n",
    "        func(a,b)\n",
    "        print(func(a,b))\n",
    "        print(\"this is my decorator\")\n",
    "        return func(a,b)\n",
    "    return t7"
   ]
  },
  {
   "cell_type": "code",
   "execution_count": 66,
   "id": "6a756998-bdda-4215-b76a-d8df5db98f84",
   "metadata": {},
   "outputs": [],
   "source": [
    "@t6\n",
    "def t8():\n",
    "    return 5+7\n"
   ]
  },
  {
   "cell_type": "code",
   "execution_count": 62,
   "id": "fceaf15c-ad8b-4cee-a63b-63147ca4db04",
   "metadata": {},
   "outputs": [
    {
     "name": "stdout",
     "output_type": "stream",
     "text": [
      "12\n",
      "this is my decorator\n"
     ]
    },
    {
     "data": {
      "text/plain": [
       "112"
      ]
     },
     "execution_count": 62,
     "metadata": {},
     "output_type": "execute_result"
    }
   ],
   "source": [
    "t8() + 100"
   ]
  },
  {
   "cell_type": "code",
   "execution_count": 67,
   "id": "b4c3c0b8-17e2-47fa-ae35-967f3015f94f",
   "metadata": {},
   "outputs": [],
   "source": [
    "@t6\n",
    "def t8(a,b):\n",
    "    return 5+7\n"
   ]
  },
  {
   "cell_type": "code",
   "execution_count": 68,
   "id": "d4b736b7-7efc-46ad-8a8e-d6f84a5f1eb9",
   "metadata": {},
   "outputs": [
    {
     "name": "stdout",
     "output_type": "stream",
     "text": [
      "12\n",
      "this is my decorator\n"
     ]
    },
    {
     "data": {
      "text/plain": [
       "12"
      ]
     },
     "execution_count": 68,
     "metadata": {},
     "output_type": "execute_result"
    }
   ],
   "source": [
    " t8(1,2)"
   ]
  },
  {
   "cell_type": "code",
   "execution_count": 87,
   "id": "da2eed20-5224-4430-ad82-483b5586e7b5",
   "metadata": {},
   "outputs": [],
   "source": [
    "def t6(func):\n",
    "    def t7(*args,**kwargs):\n",
    "        func(*args,**kwargs)\n",
    "        print(func(*args,**kwargs))\n",
    "        print(\"this is my decorator\")\n",
    "        return func(*args,**kwargs)\n",
    "    return t7"
   ]
  },
  {
   "cell_type": "code",
   "execution_count": 80,
   "id": "3eef56e7-defd-45f3-935b-1c3c11c1267e",
   "metadata": {},
   "outputs": [],
   "source": [
    "@t6\n",
    "def t8(a,b):\n",
    "    return a+b"
   ]
  },
  {
   "cell_type": "code",
   "execution_count": 84,
   "id": "d7dae0b5-bb1d-4d30-9f38-fd5e4b809016",
   "metadata": {},
   "outputs": [
    {
     "name": "stdout",
     "output_type": "stream",
     "text": [
      "3\n",
      "this is my decorator\n"
     ]
    },
    {
     "data": {
      "text/plain": [
       "3"
      ]
     },
     "execution_count": 84,
     "metadata": {},
     "output_type": "execute_result"
    }
   ],
   "source": [
    "t8(1,2)"
   ]
  },
  {
   "cell_type": "code",
   "execution_count": 88,
   "id": "6a539480-3baa-4364-bf83-257f09e4e809",
   "metadata": {},
   "outputs": [],
   "source": [
    "@t6\n",
    "def t9(**kwargs):\n",
    "    return kwargs"
   ]
  },
  {
   "cell_type": "code",
   "execution_count": 90,
   "id": "dd460379-70be-4643-b9e4-43787240e78c",
   "metadata": {},
   "outputs": [
    {
     "name": "stdout",
     "output_type": "stream",
     "text": [
      "{'a': 89, 'b': 67, 'c': 8}\n",
      "this is my decorator\n"
     ]
    },
    {
     "data": {
      "text/plain": [
       "{'a': 89, 'b': 67, 'c': 8}"
      ]
     },
     "execution_count": 90,
     "metadata": {},
     "output_type": "execute_result"
    }
   ],
   "source": [
    "t9 (a = 89, b=67, c=8)\n"
   ]
  },
  {
   "cell_type": "markdown",
   "id": "042aacbb-b8e8-40d7-9742-5330a4eb294c",
   "metadata": {},
   "source": [
    "Lambda Function/ Function withOut name"
   ]
  },
  {
   "cell_type": "markdown",
   "id": "a9ffe92f-78ff-4869-85a1-bc631169dc0b",
   "metadata": {},
   "source": [
    "Lambda Function/ Function withput name"
   ]
  },
  {
   "cell_type": "code",
   "execution_count": 96,
   "id": "dc415433-d3ae-4902-8327-5f58c56a0f04",
   "metadata": {},
   "outputs": [],
   "source": [
    "c=lambda a,b : a+b # try to intialize the functions"
   ]
  },
  {
   "cell_type": "code",
   "execution_count": 93,
   "id": "f64cae9e-b0ec-4e85-be42-71e433e64923",
   "metadata": {},
   "outputs": [
    {
     "data": {
      "text/plain": [
       "3"
      ]
     },
     "execution_count": 93,
     "metadata": {},
     "output_type": "execute_result"
    }
   ],
   "source": [
    "c(1,2)"
   ]
  },
  {
   "cell_type": "code",
   "execution_count": 95,
   "id": "e3560f3e-ab83-4951-915a-a61a545a7346",
   "metadata": {},
   "outputs": [
    {
     "data": {
      "text/plain": [
       "'basava prabhu'"
      ]
     },
     "execution_count": 95,
     "metadata": {},
     "output_type": "execute_result"
    }
   ],
   "source": [
    "c(\"basava \", \"prabhu\")"
   ]
  },
  {
   "cell_type": "code",
   "execution_count": 97,
   "id": "228801a4-a5f4-4d5f-8235-b22dbba256f6",
   "metadata": {},
   "outputs": [],
   "source": [
    "# Not required for complex functions "
   ]
  },
  {
   "cell_type": "code",
   "execution_count": 109,
   "id": "a174c598-c99f-4000-b771-06d520b78c14",
   "metadata": {},
   "outputs": [],
   "source": [
    "e= lambda *args : args"
   ]
  },
  {
   "cell_type": "code",
   "execution_count": 110,
   "id": "0bc125ba-abde-4ea0-9dcf-ccc537aaf041",
   "metadata": {},
   "outputs": [
    {
     "data": {
      "text/plain": [
       "(1, 2)"
      ]
     },
     "execution_count": 110,
     "metadata": {},
     "output_type": "execute_result"
    }
   ],
   "source": [
    "e(1,2)"
   ]
  },
  {
   "cell_type": "markdown",
   "id": "9a0469eb-fd31-4d6e-8867-7fe569a65e8e",
   "metadata": {},
   "source": [
    "Mapreduce and \n",
    "Filter functions "
   ]
  },
  {
   "cell_type": "code",
   "execution_count": 112,
   "id": "c572d2d2-4eb7-45a2-8e3d-7b01d0106605",
   "metadata": {},
   "outputs": [],
   "source": [
    "#map()"
   ]
  },
  {
   "cell_type": "code",
   "execution_count": 114,
   "id": "abf8ecad-b068-4a37-9f5c-a49753a0f97b",
   "metadata": {},
   "outputs": [],
   "source": [
    "l = [1,2,3,4,5,6,7]"
   ]
  },
  {
   "cell_type": "code",
   "execution_count": 117,
   "id": "d360da60-0e81-4827-a7cb-fc8e727e8c25",
   "metadata": {},
   "outputs": [
    {
     "data": {
      "text/plain": [
       "[11, 12, 13, 14, 15, 16, 17]"
      ]
     },
     "execution_count": 117,
     "metadata": {},
     "output_type": "execute_result"
    }
   ],
   "source": [
    "temp = []\n",
    "\n",
    "for i in l:\n",
    "    temp.append(i+10)\n",
    "    \n",
    "temp"
   ]
  },
  {
   "cell_type": "code",
   "execution_count": 120,
   "id": "d994b01a-ef49-4a98-88b6-5284147f5746",
   "metadata": {},
   "outputs": [],
   "source": [
    "def t12(a):\n",
    "    return a+10\n"
   ]
  },
  {
   "cell_type": "code",
   "execution_count": 122,
   "id": "a6338366-a04d-454a-8e1b-5b1ed4ec7799",
   "metadata": {},
   "outputs": [
    {
     "data": {
      "text/plain": [
       "[11, 12, 13, 14, 15, 16, 17]"
      ]
     },
     "execution_count": 122,
     "metadata": {},
     "output_type": "execute_result"
    }
   ],
   "source": [
    "list(map(t12, l))"
   ]
  },
  {
   "cell_type": "code",
   "execution_count": 123,
   "id": "a6b3a0b9-0fca-4d05-b8fb-1d4f5467677a",
   "metadata": {},
   "outputs": [],
   "source": [
    "# map the iterable operator with the functions"
   ]
  },
  {
   "cell_type": "code",
   "execution_count": 124,
   "id": "043dea8f-ac65-42e8-9625-65dfebbbaea8",
   "metadata": {},
   "outputs": [
    {
     "data": {
      "text/plain": [
       "[11, 12, 13, 14, 15, 16, 17]"
      ]
     },
     "execution_count": 124,
     "metadata": {},
     "output_type": "execute_result"
    }
   ],
   "source": [
    "list(map(lambda a: a+10,l))"
   ]
  },
  {
   "cell_type": "code",
   "execution_count": 125,
   "id": "60542f3d-22ab-4a97-8483-96de7236d7cb",
   "metadata": {},
   "outputs": [],
   "source": [
    "l = [\"basava\",\"prabhu\"]"
   ]
  },
  {
   "cell_type": "code",
   "execution_count": 127,
   "id": "d19d200d-1661-4b28-a45c-0c07c161b86a",
   "metadata": {},
   "outputs": [],
   "source": [
    "m = []\n",
    "for i in l:\n",
    "    m.append(i.upper())"
   ]
  },
  {
   "cell_type": "code",
   "execution_count": 128,
   "id": "f2e8aef7-bfea-4376-8531-19d24fb6134f",
   "metadata": {},
   "outputs": [
    {
     "data": {
      "text/plain": [
       "['BASAVA', 'PRABHU']"
      ]
     },
     "execution_count": 128,
     "metadata": {},
     "output_type": "execute_result"
    }
   ],
   "source": [
    "m"
   ]
  },
  {
   "cell_type": "code",
   "execution_count": 129,
   "id": "068e617b-230b-4f65-8e6d-e4a14e2149a3",
   "metadata": {},
   "outputs": [
    {
     "data": {
      "text/plain": [
       "['BASAVA', 'PRABHU']"
      ]
     },
     "execution_count": 129,
     "metadata": {},
     "output_type": "execute_result"
    }
   ],
   "source": [
    "list(map(lambda a : a.upper(),l))"
   ]
  },
  {
   "cell_type": "code",
   "execution_count": 130,
   "id": "a56a9a65-af9e-41c1-8542-9f0af96f9614",
   "metadata": {},
   "outputs": [
    {
     "data": {
      "text/plain": [
       "['basava', 'prabhu']"
      ]
     },
     "execution_count": 130,
     "metadata": {},
     "output_type": "execute_result"
    }
   ],
   "source": [
    "l"
   ]
  },
  {
   "cell_type": "code",
   "execution_count": 133,
   "id": "732435c2-6b01-4ec2-a569-9fd614cb3736",
   "metadata": {},
   "outputs": [
    {
     "data": {
      "text/plain": [
       "[6, 6]"
      ]
     },
     "execution_count": 133,
     "metadata": {},
     "output_type": "execute_result"
    }
   ],
   "source": [
    "list(map(len,l))"
   ]
  },
  {
   "cell_type": "code",
   "execution_count": 134,
   "id": "217fd872-4c80-460a-9d0f-3eae7d7d79d0",
   "metadata": {},
   "outputs": [
    {
     "data": {
      "text/plain": [
       "[6, 6]"
      ]
     },
     "execution_count": 134,
     "metadata": {},
     "output_type": "execute_result"
    }
   ],
   "source": [
    "list(map(lambda a : len(a),l))"
   ]
  },
  {
   "cell_type": "code",
   "execution_count": 135,
   "id": "a70435f6-9e67-4824-8d2b-1334e3cb412c",
   "metadata": {},
   "outputs": [],
   "source": [
    "l = [1,2,3,4,5,6,7,8]"
   ]
  },
  {
   "cell_type": "code",
   "execution_count": 139,
   "id": "30d93a9e-6a09-425c-b009-7999c7908e72",
   "metadata": {},
   "outputs": [],
   "source": [
    "def t25(a):\n",
    "    l =[]\n",
    "    for i in a:\n",
    "        if i%2==0:\n",
    "            l.append(i)\n",
    "    return l"
   ]
  },
  {
   "cell_type": "code",
   "execution_count": 140,
   "id": "9a9b19b7-e0fd-4f83-95a6-4fa89faac77c",
   "metadata": {},
   "outputs": [
    {
     "data": {
      "text/plain": [
       "[2, 4, 6, 8]"
      ]
     },
     "execution_count": 140,
     "metadata": {},
     "output_type": "execute_result"
    }
   ],
   "source": [
    "t25(l)"
   ]
  },
  {
   "cell_type": "code",
   "execution_count": 148,
   "id": "7c8fa776-1827-40bd-a59b-2770a1f68da4",
   "metadata": {},
   "outputs": [],
   "source": [
    "a = lambda a : a if a%2==0 else None"
   ]
  },
  {
   "cell_type": "code",
   "execution_count": 149,
   "id": "37d452d0-a8a0-4ee6-a1e0-e5b5ccf7e017",
   "metadata": {},
   "outputs": [
    {
     "data": {
      "text/plain": [
       "[None, 2, None, 4, None, 6, None, 8]"
      ]
     },
     "execution_count": 149,
     "metadata": {},
     "output_type": "execute_result"
    }
   ],
   "source": [
    "list(map(a,l))"
   ]
  },
  {
   "cell_type": "code",
   "execution_count": 150,
   "id": "9efff56a-9927-4ed2-8895-b1c1e7a3e858",
   "metadata": {},
   "outputs": [
    {
     "data": {
      "text/plain": [
       "[2, 4, 6, 8]"
      ]
     },
     "execution_count": 150,
     "metadata": {},
     "output_type": "execute_result"
    }
   ],
   "source": [
    "list(filter(a,l))"
   ]
  },
  {
   "cell_type": "markdown",
   "id": "87304e00-3291-4c6e-95ec-33657b980384",
   "metadata": {},
   "source": [
    "Reduce functions\n"
   ]
  },
  {
   "cell_type": "code",
   "execution_count": 156,
   "id": "074742fa-c772-45c0-9d38-221315df8266",
   "metadata": {},
   "outputs": [
    {
     "data": {
      "text/plain": [
       "[1, 2, 3]"
      ]
     },
     "execution_count": 156,
     "metadata": {},
     "output_type": "execute_result"
    }
   ],
   "source": [
    "l= [1,2,3]\n",
    "l"
   ]
  },
  {
   "cell_type": "code",
   "execution_count": 152,
   "id": "44083594-f7b7-4efe-bc2d-159cccf166ad",
   "metadata": {},
   "outputs": [],
   "source": [
    "# Multiply each element in the list"
   ]
  },
  {
   "cell_type": "code",
   "execution_count": 153,
   "id": "bdc65e62-429b-409c-a936-265c775f127e",
   "metadata": {},
   "outputs": [],
   "source": [
    "from functools import reduce"
   ]
  },
  {
   "cell_type": "code",
   "execution_count": 157,
   "id": "a05aae0f-1d85-4b08-9cc9-7485a70ef36d",
   "metadata": {},
   "outputs": [
    {
     "data": {
      "text/plain": [
       "6"
      ]
     },
     "execution_count": 157,
     "metadata": {},
     "output_type": "execute_result"
    }
   ],
   "source": [
    "reduce(lambda a,b: a*b,l)"
   ]
  },
  {
   "cell_type": "code",
   "execution_count": 158,
   "id": "58af36ac-2408-46c0-8adc-0d866b65ddfd",
   "metadata": {},
   "outputs": [
    {
     "ename": "TypeError",
     "evalue": "<lambda>() missing 1 required positional argument: 'c'",
     "output_type": "error",
     "traceback": [
      "\u001b[0;31m---------------------------------------------------------------------------\u001b[0m",
      "\u001b[0;31mTypeError\u001b[0m                                 Traceback (most recent call last)",
      "Cell \u001b[0;32mIn [158], line 1\u001b[0m\n\u001b[0;32m----> 1\u001b[0m \u001b[43mreduce\u001b[49m\u001b[43m(\u001b[49m\u001b[38;5;28;43;01mlambda\u001b[39;49;00m\u001b[43m \u001b[49m\u001b[43ma\u001b[49m\u001b[43m,\u001b[49m\u001b[43mb\u001b[49m\u001b[43m,\u001b[49m\u001b[43mc\u001b[49m\u001b[43m:\u001b[49m\u001b[43m \u001b[49m\u001b[43ma\u001b[49m\u001b[38;5;241;43m*\u001b[39;49m\u001b[43mb\u001b[49m\u001b[38;5;241;43m*\u001b[39;49m\u001b[43mc\u001b[49m\u001b[43m,\u001b[49m\u001b[43ml\u001b[49m\u001b[43m)\u001b[49m\n",
      "\u001b[0;31mTypeError\u001b[0m: <lambda>() missing 1 required positional argument: 'c'"
     ]
    }
   ],
   "source": [
    "reduce(lambda a,b,c: a*b*c,l)"
   ]
  },
  {
   "cell_type": "code",
   "execution_count": 159,
   "id": "1051b321-9df3-4607-82df-3436459bb87b",
   "metadata": {},
   "outputs": [],
   "source": [
    "#Inside reduce always take 2 arguments "
   ]
  },
  {
   "cell_type": "code",
   "execution_count": 160,
   "id": "18526b66-3d63-4f66-afc7-1be59be4caaa",
   "metadata": {},
   "outputs": [
    {
     "data": {
      "text/plain": [
       "[1, 2, 3]"
      ]
     },
     "execution_count": 160,
     "metadata": {},
     "output_type": "execute_result"
    }
   ],
   "source": [
    "l"
   ]
  },
  {
   "cell_type": "code",
   "execution_count": 161,
   "id": "952a2ae0-d41e-4093-896c-c052f69264da",
   "metadata": {},
   "outputs": [],
   "source": [
    "l1 = [3]"
   ]
  },
  {
   "cell_type": "code",
   "execution_count": 162,
   "id": "6e496073-cda5-45b4-a7ad-4d36d6a5df59",
   "metadata": {},
   "outputs": [
    {
     "data": {
      "text/plain": [
       "3"
      ]
     },
     "execution_count": 162,
     "metadata": {},
     "output_type": "execute_result"
    }
   ],
   "source": [
    "reduce(lambda a,b : a*b , l1)"
   ]
  },
  {
   "cell_type": "code",
   "execution_count": 164,
   "id": "b35bf4cb-3e74-40ab-b50e-ee1ff2977790",
   "metadata": {},
   "outputs": [],
   "source": [
    "#This is exception; If only one element \n",
    "#it will return "
   ]
  },
  {
   "cell_type": "code",
   "execution_count": 174,
   "id": "bae7e351-afbe-4b66-9ae7-c8cd594b44af",
   "metadata": {},
   "outputs": [],
   "source": [
    "def test26(a: str, b:str) -> str:\n",
    "    '''function inputs zero parameter '''\n",
    "    return a+b"
   ]
  },
  {
   "cell_type": "code",
   "execution_count": 176,
   "id": "6c4e0082-5887-48af-aa55-08138ab59f52",
   "metadata": {},
   "outputs": [
    {
     "data": {
      "text/plain": [
       "'basava prabhu'"
      ]
     },
     "execution_count": 176,
     "metadata": {},
     "output_type": "execute_result"
    }
   ],
   "source": [
    "test26(\"basava \" , \"prabhu\")"
   ]
  },
  {
   "cell_type": "code",
   "execution_count": null,
   "id": "e723f128-f6ba-459c-a3f0-0eede735ab78",
   "metadata": {},
   "outputs": [],
   "source": []
  }
 ],
 "metadata": {
  "kernelspec": {
   "display_name": "Python 3 (ipykernel)",
   "language": "python",
   "name": "python3"
  },
  "language_info": {
   "codemirror_mode": {
    "name": "ipython",
    "version": 3
   },
   "file_extension": ".py",
   "mimetype": "text/x-python",
   "name": "python",
   "nbconvert_exporter": "python",
   "pygments_lexer": "ipython3",
   "version": "3.10.6"
  }
 },
 "nbformat": 4,
 "nbformat_minor": 5
}
