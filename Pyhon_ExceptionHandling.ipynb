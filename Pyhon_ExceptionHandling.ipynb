{
 "cells": [
  {
   "cell_type": "code",
   "execution_count": 1,
   "id": "a61d7448-11e4-4456-9721-647336df275c",
   "metadata": {},
   "outputs": [],
   "source": [
    "#Write  a file\n"
   ]
  },
  {
   "cell_type": "code",
   "execution_count": 3,
   "id": "22475be0-1b43-458a-bb69-dfc9bab7eb1e",
   "metadata": {},
   "outputs": [
    {
     "name": "stdout",
     "output_type": "stream",
     "text": [
      "done\n"
     ]
    }
   ],
   "source": [
    "data=\"Prabhu\"\n",
    "f=open(\"test1.txt\",'w')\n",
    "f.write(data)\n",
    "print(\"done\")\n",
    "f.close()"
   ]
  },
  {
   "cell_type": "code",
   "execution_count": 4,
   "id": "a88c3b42-fea0-4afc-acc1-ae45f320cf3f",
   "metadata": {},
   "outputs": [],
   "source": [
    "with open(\"test2.txt\",'w') as f:\n",
    "    f.write(\"This is my first file in Python-Lin1\\n\")\n",
    "    f.write(\"This is my first file in Python-Lin2\\n\")\n",
    "    "
   ]
  },
  {
   "cell_type": "code",
   "execution_count": 9,
   "id": "9766ed39-b2e1-4fb1-a96f-1ad5291c691f",
   "metadata": {},
   "outputs": [
    {
     "name": "stdin",
     "output_type": "stream",
     "text": [
      "Enter the Integer 2\n",
      "Enter the Integer 0\n"
     ]
    }
   ],
   "source": [
    "try:\n",
    "    a=int(input(\"Enter the Integer\"))\n",
    "    b=int(input(\"Enter the Integer\"))\n",
    "    c=a/b\n",
    "except Exception as e:\n",
    "    f=open(\"logFail\",'w')\n",
    "    f.write(str(e))\n",
    "    f.close()\n",
    "else:\n",
    "    f=open(\"logSuccess\",'w')\n",
    "    f.write(\"Division done succesfully\")\n",
    "    f.close()"
   ]
  },
  {
   "cell_type": "code",
   "execution_count": 12,
   "id": "3bfdeace-7652-4cd6-b920-30da4fdd3a70",
   "metadata": {},
   "outputs": [
    {
     "name": "stdout",
     "output_type": "stream",
     "text": [
      "File NOT exists\n"
     ]
    }
   ],
   "source": [
    "try:\n",
    "    open(\"logFail.txt\",'r')\n",
    "    print(\"File exists\")\n",
    "except:\n",
    "    print(\"File NOT exists\")\n",
    "    "
   ]
  },
  {
   "cell_type": "code",
   "execution_count": 13,
   "id": "baaa8628-0b55-42aa-84a2-b0463e6c8a7c",
   "metadata": {},
   "outputs": [],
   "source": [
    "#x = Open a file for exclusive, If a file is already present it will not overwrite\n",
    "#a = Open a file in Append mode, append at the end  of the file\n",
    "#+ Open a file for Updating(reading and writing)"
   ]
  },
  {
   "cell_type": "code",
   "execution_count": 16,
   "id": "1813a0e5-9d85-47bc-b76a-fea627c8c6df",
   "metadata": {},
   "outputs": [
    {
     "ename": "FileExistsError",
     "evalue": "[Errno 17] File exists: 'new1.txt'",
     "output_type": "error",
     "traceback": [
      "\u001b[0;31m---------------------------------------------------------------------------\u001b[0m",
      "\u001b[0;31mFileExistsError\u001b[0m                           Traceback (most recent call last)",
      "Cell \u001b[0;32mIn [16], line 1\u001b[0m\n\u001b[0;32m----> 1\u001b[0m \u001b[38;5;28;43mopen\u001b[39;49m\u001b[43m(\u001b[49m\u001b[38;5;124;43m\"\u001b[39;49m\u001b[38;5;124;43mnew1.txt\u001b[39;49m\u001b[38;5;124;43m\"\u001b[39;49m\u001b[43m,\u001b[49m\u001b[38;5;124;43m'\u001b[39;49m\u001b[38;5;124;43mx\u001b[39;49m\u001b[38;5;124;43m'\u001b[39;49m\u001b[43m)\u001b[49m\n",
      "\u001b[0;31mFileExistsError\u001b[0m: [Errno 17] File exists: 'new1.txt'"
     ]
    }
   ],
   "source": [
    "open(\"new1.txt\",'x')"
   ]
  },
  {
   "cell_type": "code",
   "execution_count": 21,
   "id": "28cf961a-d502-40da-9110-b95be3cd4024",
   "metadata": {},
   "outputs": [],
   "source": [
    "f=open(\"new1.txt\",'a')"
   ]
  },
  {
   "cell_type": "code",
   "execution_count": 22,
   "id": "72fe2538-d91c-41be-985a-c3c62ab69e0a",
   "metadata": {},
   "outputs": [
    {
     "data": {
      "text/plain": [
       "10"
      ]
     },
     "execution_count": 22,
     "metadata": {},
     "output_type": "execute_result"
    }
   ],
   "source": [
    "f.write(\"First line\")"
   ]
  },
  {
   "cell_type": "code",
   "execution_count": 25,
   "id": "d478235c-4725-40ab-a502-74dd62f7aeaa",
   "metadata": {},
   "outputs": [
    {
     "ename": "AttributeError",
     "evalue": "'_io.TextIOWrapper' object has no attribute 'writeline'",
     "output_type": "error",
     "traceback": [
      "\u001b[0;31m---------------------------------------------------------------------------\u001b[0m",
      "\u001b[0;31mAttributeError\u001b[0m                            Traceback (most recent call last)",
      "Cell \u001b[0;32mIn [25], line 1\u001b[0m\n\u001b[0;32m----> 1\u001b[0m \u001b[43mf\u001b[49m\u001b[38;5;241;43m.\u001b[39;49m\u001b[43mwriteline\u001b[49m(\u001b[38;5;124m\"\u001b[39m\u001b[38;5;124mSecond line\u001b[39m\u001b[38;5;124m\"\u001b[39m)\n",
      "\u001b[0;31mAttributeError\u001b[0m: '_io.TextIOWrapper' object has no attribute 'writeline'"
     ]
    }
   ],
   "source": [
    "f.writeline(\"Second line\")"
   ]
  },
  {
   "cell_type": "code",
   "execution_count": 27,
   "id": "b7a1bc83-3a27-480a-bb93-bc3e6594246f",
   "metadata": {},
   "outputs": [],
   "source": [
    "#Iterables and Generators\n",
    "#Iteration -> Repeating Steps\n",
    "#Iterable -> Are objects that can be iterated in Iteration\n"
   ]
  },
  {
   "cell_type": "code",
   "execution_count": 29,
   "id": "a4676968-3069-48e1-be00-35b6c8237faf",
   "metadata": {},
   "outputs": [
    {
     "name": "stdout",
     "output_type": "stream",
     "text": [
      "a\n",
      "b\n",
      "c\n"
     ]
    }
   ],
   "source": [
    "mytuple = (\"a\",\"b\",\"c\")\n",
    "for i in mytuple:\n",
    "    print(i)"
   ]
  },
  {
   "cell_type": "code",
   "execution_count": 30,
   "id": "8f56fa00-a1cc-478f-9afd-b4cbd3b37b4c",
   "metadata": {},
   "outputs": [
    {
     "data": {
      "text/plain": [
       "['__add__',\n",
       " '__class__',\n",
       " '__class_getitem__',\n",
       " '__contains__',\n",
       " '__delattr__',\n",
       " '__dir__',\n",
       " '__doc__',\n",
       " '__eq__',\n",
       " '__format__',\n",
       " '__ge__',\n",
       " '__getattribute__',\n",
       " '__getitem__',\n",
       " '__getnewargs__',\n",
       " '__gt__',\n",
       " '__hash__',\n",
       " '__init__',\n",
       " '__init_subclass__',\n",
       " '__iter__',\n",
       " '__le__',\n",
       " '__len__',\n",
       " '__lt__',\n",
       " '__mul__',\n",
       " '__ne__',\n",
       " '__new__',\n",
       " '__reduce__',\n",
       " '__reduce_ex__',\n",
       " '__repr__',\n",
       " '__rmul__',\n",
       " '__setattr__',\n",
       " '__sizeof__',\n",
       " '__str__',\n",
       " '__subclasshook__',\n",
       " 'count',\n",
       " 'index']"
      ]
     },
     "execution_count": 30,
     "metadata": {},
     "output_type": "execute_result"
    }
   ],
   "source": [
    "dir(mytuple)"
   ]
  },
  {
   "cell_type": "code",
   "execution_count": 31,
   "id": "1b8e5fa2-f3f4-4e14-8f1b-2ce67940fffb",
   "metadata": {},
   "outputs": [],
   "source": [
    "d={'x':43, 'y':3.14}\n"
   ]
  },
  {
   "cell_type": "code",
   "execution_count": 33,
   "id": "29b2fafe-0316-4227-b28b-0e87015269d1",
   "metadata": {},
   "outputs": [
    {
     "name": "stdout",
     "output_type": "stream",
     "text": [
      "x 43\n",
      "y 3.14\n"
     ]
    }
   ],
   "source": [
    "for k,v in d.items():\n",
    "    print(k,v)"
   ]
  },
  {
   "cell_type": "code",
   "execution_count": 34,
   "id": "9b86579b-1893-4466-8898-d1ed78d98292",
   "metadata": {},
   "outputs": [
    {
     "data": {
      "text/plain": [
       "['__class__',\n",
       " '__class_getitem__',\n",
       " '__contains__',\n",
       " '__delattr__',\n",
       " '__delitem__',\n",
       " '__dir__',\n",
       " '__doc__',\n",
       " '__eq__',\n",
       " '__format__',\n",
       " '__ge__',\n",
       " '__getattribute__',\n",
       " '__getitem__',\n",
       " '__gt__',\n",
       " '__hash__',\n",
       " '__init__',\n",
       " '__init_subclass__',\n",
       " '__ior__',\n",
       " '__iter__',\n",
       " '__le__',\n",
       " '__len__',\n",
       " '__lt__',\n",
       " '__ne__',\n",
       " '__new__',\n",
       " '__or__',\n",
       " '__reduce__',\n",
       " '__reduce_ex__',\n",
       " '__repr__',\n",
       " '__reversed__',\n",
       " '__ror__',\n",
       " '__setattr__',\n",
       " '__setitem__',\n",
       " '__sizeof__',\n",
       " '__str__',\n",
       " '__subclasshook__',\n",
       " 'clear',\n",
       " 'copy',\n",
       " 'fromkeys',\n",
       " 'get',\n",
       " 'items',\n",
       " 'keys',\n",
       " 'pop',\n",
       " 'popitem',\n",
       " 'setdefault',\n",
       " 'update',\n",
       " 'values']"
      ]
     },
     "execution_count": 34,
     "metadata": {},
     "output_type": "execute_result"
    }
   ],
   "source": [
    "dir(d)"
   ]
  },
  {
   "cell_type": "code",
   "execution_count": 36,
   "id": "880b922e-7efa-4008-b50e-5dce4abbe386",
   "metadata": {},
   "outputs": [],
   "source": [
    "#Iterartor Object"
   ]
  },
  {
   "cell_type": "code",
   "execution_count": 38,
   "id": "f38dd92a-46c7-42fd-8502-6f7413ea3a6a",
   "metadata": {},
   "outputs": [],
   "source": [
    "l=[\"One\",\"Two\",\"Three\"]"
   ]
  },
  {
   "cell_type": "code",
   "execution_count": 39,
   "id": "998a9c64-5385-4d75-aa19-a906fad036ee",
   "metadata": {},
   "outputs": [],
   "source": [
    "#Making Iterable object to Iterator"
   ]
  },
  {
   "cell_type": "code",
   "execution_count": 41,
   "id": "5e63f666-aa6b-4a56-bc1b-8b57385a4822",
   "metadata": {},
   "outputs": [],
   "source": [
    "x=iter(l)"
   ]
  },
  {
   "cell_type": "code",
   "execution_count": 42,
   "id": "f62c95f1-da91-4b1b-b821-2b75b80012ff",
   "metadata": {},
   "outputs": [
    {
     "data": {
      "text/plain": [
       "<list_iterator at 0x7f5a802ff970>"
      ]
     },
     "execution_count": 42,
     "metadata": {},
     "output_type": "execute_result"
    }
   ],
   "source": [
    "x"
   ]
  },
  {
   "cell_type": "code",
   "execution_count": 43,
   "id": "dbb84009-a096-46ff-afa0-deda913bbb27",
   "metadata": {},
   "outputs": [
    {
     "data": {
      "text/plain": [
       "list_iterator"
      ]
     },
     "execution_count": 43,
     "metadata": {},
     "output_type": "execute_result"
    }
   ],
   "source": [
    "type(x)"
   ]
  },
  {
   "cell_type": "code",
   "execution_count": 49,
   "id": "55472a79-340c-476e-a4c9-3f9e68d974bf",
   "metadata": {},
   "outputs": [
    {
     "ename": "StopIteration",
     "evalue": "",
     "output_type": "error",
     "traceback": [
      "\u001b[0;31m---------------------------------------------------------------------------\u001b[0m",
      "\u001b[0;31mStopIteration\u001b[0m                             Traceback (most recent call last)",
      "Cell \u001b[0;32mIn [49], line 1\u001b[0m\n\u001b[0;32m----> 1\u001b[0m \u001b[38;5;28;43mnext\u001b[39;49m\u001b[43m(\u001b[49m\u001b[43mx\u001b[49m\u001b[43m)\u001b[49m\n",
      "\u001b[0;31mStopIteration\u001b[0m: "
     ]
    }
   ],
   "source": [
    "next(x)"
   ]
  },
  {
   "cell_type": "code",
   "execution_count": 53,
   "id": "92277f5a-18e1-4b09-92f1-31a239dabf34",
   "metadata": {},
   "outputs": [],
   "source": [
    "m=\"Prabhu\"\n",
    "\n",
    "x=iter(m)"
   ]
  },
  {
   "cell_type": "code",
   "execution_count": 54,
   "id": "9dd4d806-a50a-436c-83e2-e5b5e94598c5",
   "metadata": {},
   "outputs": [
    {
     "data": {
      "text/plain": [
       "str_iterator"
      ]
     },
     "execution_count": 54,
     "metadata": {},
     "output_type": "execute_result"
    }
   ],
   "source": [
    "type(x)"
   ]
  },
  {
   "cell_type": "code",
   "execution_count": 55,
   "id": "44fb75c2-2bc7-4490-8eeb-e15f84c5a33d",
   "metadata": {},
   "outputs": [
    {
     "data": {
      "text/plain": [
       "'P'"
      ]
     },
     "execution_count": 55,
     "metadata": {},
     "output_type": "execute_result"
    }
   ],
   "source": [
    "next(x)"
   ]
  },
  {
   "cell_type": "code",
   "execution_count": 56,
   "id": "256eeca8-28cc-4387-b1ca-ce4362c5aeb8",
   "metadata": {},
   "outputs": [
    {
     "data": {
      "text/plain": [
       "'r'"
      ]
     },
     "execution_count": 56,
     "metadata": {},
     "output_type": "execute_result"
    }
   ],
   "source": [
    "next(x)"
   ]
  },
  {
   "cell_type": "code",
   "execution_count": 57,
   "id": "3683f8a6-9de7-48f3-b5f2-6acdb461cc27",
   "metadata": {},
   "outputs": [
    {
     "data": {
      "text/plain": [
       "['__class__',\n",
       " '__delattr__',\n",
       " '__dir__',\n",
       " '__doc__',\n",
       " '__eq__',\n",
       " '__format__',\n",
       " '__ge__',\n",
       " '__getattribute__',\n",
       " '__gt__',\n",
       " '__hash__',\n",
       " '__init__',\n",
       " '__init_subclass__',\n",
       " '__iter__',\n",
       " '__le__',\n",
       " '__length_hint__',\n",
       " '__lt__',\n",
       " '__ne__',\n",
       " '__new__',\n",
       " '__next__',\n",
       " '__reduce__',\n",
       " '__reduce_ex__',\n",
       " '__repr__',\n",
       " '__setattr__',\n",
       " '__setstate__',\n",
       " '__sizeof__',\n",
       " '__str__',\n",
       " '__subclasshook__']"
      ]
     },
     "execution_count": 57,
     "metadata": {},
     "output_type": "execute_result"
    }
   ],
   "source": [
    "dir(x)"
   ]
  },
  {
   "cell_type": "code",
   "execution_count": 58,
   "id": "b212c55d-c1a9-418a-8bdc-5322e5e996e2",
   "metadata": {},
   "outputs": [],
   "source": [
    "#Iterabeles are not iterators\n",
    "#Iteratoes arer also interables"
   ]
  },
  {
   "cell_type": "code",
   "execution_count": 59,
   "id": "ae5f6910-47d4-458a-a5be-fe297cd4b0c3",
   "metadata": {},
   "outputs": [],
   "source": [
    "#generator is other way of creating Iterator\n"
   ]
  },
  {
   "cell_type": "code",
   "execution_count": 81,
   "id": "69264337-a1db-4da9-a0b6-766a82c4726f",
   "metadata": {},
   "outputs": [],
   "source": [
    "def sqr(n):\n",
    "    for i in range(2,n):\n",
    "        return i**2"
   ]
  },
  {
   "cell_type": "code",
   "execution_count": 82,
   "id": "80eb630f-1018-41b7-bada-d0ed0f88d07c",
   "metadata": {},
   "outputs": [
    {
     "data": {
      "text/plain": [
       "4"
      ]
     },
     "execution_count": 82,
     "metadata": {},
     "output_type": "execute_result"
    }
   ],
   "source": [
    "sqr(3)"
   ]
  },
  {
   "cell_type": "code",
   "execution_count": 69,
   "id": "398e6ece-fbe3-4935-9e5c-b972c848d8d4",
   "metadata": {},
   "outputs": [],
   "source": [
    "#yeild; When it has yield it is called generator\n",
    "def sqr(n):\n",
    "    for i in range(n):\n",
    "        yield i**2 "
   ]
  },
  {
   "cell_type": "code",
   "execution_count": 67,
   "id": "fe17a704-44af-4013-964b-30a9472af14a",
   "metadata": {},
   "outputs": [],
   "source": [
    "k=sqr(3)"
   ]
  },
  {
   "cell_type": "code",
   "execution_count": 68,
   "id": "27d80c44-5274-4e9b-a071-73d57db056eb",
   "metadata": {},
   "outputs": [
    {
     "name": "stdout",
     "output_type": "stream",
     "text": [
      "0\n",
      "1\n",
      "4\n"
     ]
    }
   ],
   "source": [
    "for i in k:\n",
    "    print(i)"
   ]
  },
  {
   "cell_type": "code",
   "execution_count": 70,
   "id": "50b3581e-e666-4750-9095-95066cb04a4e",
   "metadata": {},
   "outputs": [
    {
     "data": {
      "text/plain": [
       "generator"
      ]
     },
     "execution_count": 70,
     "metadata": {},
     "output_type": "execute_result"
    }
   ],
   "source": [
    "type(k)"
   ]
  },
  {
   "cell_type": "code",
   "execution_count": 71,
   "id": "45cd02b6-13bd-4d6b-8f82-67e72f6c57a4",
   "metadata": {},
   "outputs": [
    {
     "ename": "StopIteration",
     "evalue": "",
     "output_type": "error",
     "traceback": [
      "\u001b[0;31m---------------------------------------------------------------------------\u001b[0m",
      "\u001b[0;31mStopIteration\u001b[0m                             Traceback (most recent call last)",
      "Cell \u001b[0;32mIn [71], line 1\u001b[0m\n\u001b[0;32m----> 1\u001b[0m \u001b[38;5;28;43mnext\u001b[39;49m\u001b[43m(\u001b[49m\u001b[43mk\u001b[49m\u001b[43m)\u001b[49m\n",
      "\u001b[0;31mStopIteration\u001b[0m: "
     ]
    }
   ],
   "source": [
    "next(k)"
   ]
  },
  {
   "cell_type": "code",
   "execution_count": 73,
   "id": "a112e21e-0087-4a60-b990-775270ed10eb",
   "metadata": {},
   "outputs": [],
   "source": [
    "def new():\n",
    "    n=1\n",
    "    print(\"this is line one\")\n",
    "    yield n\n",
    "    \n",
    "    n=n+1\n",
    "    print(\"Second line\")\n",
    "    yield n\n",
    "    \n",
    "    n=n+1\n",
    "    print(\"Third line\")\n",
    "    yield n\n",
    "    "
   ]
  },
  {
   "cell_type": "code",
   "execution_count": 74,
   "id": "c95b97cb-8f3c-4f7e-b2e7-c14e878e9020",
   "metadata": {},
   "outputs": [
    {
     "name": "stdout",
     "output_type": "stream",
     "text": [
      "this is line one\n",
      "1\n",
      "Second line\n",
      "2\n",
      "Third line\n",
      "3\n"
     ]
    }
   ],
   "source": [
    "for i in new():\n",
    "    print(i)"
   ]
  },
  {
   "cell_type": "code",
   "execution_count": 75,
   "id": "749162bb-127f-46b2-b4f1-9d20941408b2",
   "metadata": {},
   "outputs": [],
   "source": [
    "#Generatr contains one or more yield"
   ]
  },
  {
   "cell_type": "code",
   "execution_count": 83,
   "id": "9e074a4c-ad38-4b58-a19b-9e087403f928",
   "metadata": {},
   "outputs": [],
   "source": [
    "#it does the lazzy evaluation"
   ]
  },
  {
   "cell_type": "code",
   "execution_count": 84,
   "id": "a8a50272-8d6c-4918-95b2-ee30f7c58132",
   "metadata": {},
   "outputs": [],
   "source": [
    "def gencude(n):\n",
    "    l=[]\n",
    "    for i in range(n):\n",
    "        l.append(i**3)\n",
    "    return l"
   ]
  },
  {
   "cell_type": "code",
   "execution_count": 86,
   "id": "0324ce1a-7401-4ff3-93ba-e17983b545a8",
   "metadata": {},
   "outputs": [
    {
     "data": {
      "text/plain": [
       "[0, 1, 8]"
      ]
     },
     "execution_count": 86,
     "metadata": {},
     "output_type": "execute_result"
    }
   ],
   "source": [
    "gencude(3)"
   ]
  },
  {
   "cell_type": "code",
   "execution_count": 87,
   "id": "7deb28ea-2b50-4feb-ab7f-53e90180a66d",
   "metadata": {},
   "outputs": [],
   "source": [
    "def gencude(n):\n",
    "    l=[]\n",
    "    for i in range(n):\n",
    "        yield i**3\n",
    "     "
   ]
  },
  {
   "cell_type": "code",
   "execution_count": 88,
   "id": "72d2c5b0-9f81-4212-a37c-5cfb6eb35cb8",
   "metadata": {},
   "outputs": [],
   "source": [
    "k=gencude(10)"
   ]
  },
  {
   "cell_type": "code",
   "execution_count": 89,
   "id": "9212cc45-862e-4c89-bdd4-289746fde869",
   "metadata": {},
   "outputs": [
    {
     "name": "stdout",
     "output_type": "stream",
     "text": [
      "0\n",
      "1\n",
      "8\n",
      "27\n",
      "64\n",
      "125\n",
      "216\n",
      "343\n",
      "512\n",
      "729\n"
     ]
    }
   ],
   "source": [
    "for i in k:\n",
    "    print(i)"
   ]
  },
  {
   "cell_type": "code",
   "execution_count": null,
   "id": "4eeb5a35-c829-4063-86f0-ac20956101b8",
   "metadata": {},
   "outputs": [],
   "source": []
  }
 ],
 "metadata": {
  "kernelspec": {
   "display_name": "Python 3 (ipykernel)",
   "language": "python",
   "name": "python3"
  },
  "language_info": {
   "codemirror_mode": {
    "name": "ipython",
    "version": 3
   },
   "file_extension": ".py",
   "mimetype": "text/x-python",
   "name": "python",
   "nbconvert_exporter": "python",
   "pygments_lexer": "ipython3",
   "version": "3.10.6"
  }
 },
 "nbformat": 4,
 "nbformat_minor": 5
}
