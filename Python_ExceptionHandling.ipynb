{
 "cells": [
  {
   "cell_type": "code",
   "execution_count": 4,
   "id": "f789d758-975c-45f6-bb23-ea1883a6c304",
   "metadata": {},
   "outputs": [
    {
     "name": "stdout",
     "output_type": "stream",
     "text": [
      "Cannot divide by Zero\n"
     ]
    }
   ],
   "source": [
    "#try and except block\n",
    "try:\n",
    "    a=10\n",
    "    b=0\n",
    "    c=a/b\n",
    "    print(c)\n",
    "except:\n",
    "    print(\"Cannot divide by Zero\")"
   ]
  },
  {
   "cell_type": "code",
   "execution_count": 5,
   "id": "489095ce-707c-4ce0-8e43-1dc8a20ffc35",
   "metadata": {},
   "outputs": [
    {
     "name": "stdout",
     "output_type": "stream",
     "text": [
      "File not found\n"
     ]
    }
   ],
   "source": [
    "try:\n",
    "    open(\"test.txt\")\n",
    "    \n",
    "except:\n",
    "    print(\"File not found\")"
   ]
  },
  {
   "cell_type": "code",
   "execution_count": 8,
   "id": "6298b061-5f03-4378-b999-db9b56842275",
   "metadata": {},
   "outputs": [
    {
     "name": "stdout",
     "output_type": "stream",
     "text": [
      "1\n",
      "2\n",
      "3\n",
      "4\n",
      "5\n",
      "6\n",
      "7\n",
      "8\n"
     ]
    },
    {
     "ename": "IndexError",
     "evalue": "list index out of range",
     "output_type": "error",
     "traceback": [
      "\u001b[0;31m---------------------------------------------------------------------------\u001b[0m",
      "\u001b[0;31mIndexError\u001b[0m                                Traceback (most recent call last)",
      "Cell \u001b[0;32mIn [8], line 4\u001b[0m\n\u001b[1;32m      1\u001b[0m l \u001b[38;5;241m=\u001b[39m [\u001b[38;5;241m1\u001b[39m,\u001b[38;5;241m2\u001b[39m,\u001b[38;5;241m3\u001b[39m,\u001b[38;5;241m4\u001b[39m,\u001b[38;5;241m5\u001b[39m,\u001b[38;5;241m6\u001b[39m,\u001b[38;5;241m7\u001b[39m,\u001b[38;5;241m8\u001b[39m]\n\u001b[1;32m      3\u001b[0m \u001b[38;5;28;01mfor\u001b[39;00m i \u001b[38;5;129;01min\u001b[39;00m \u001b[38;5;28mrange\u001b[39m(\u001b[38;5;28mlen\u001b[39m(l)\u001b[38;5;241m+\u001b[39m\u001b[38;5;241m1\u001b[39m):\n\u001b[0;32m----> 4\u001b[0m     \u001b[38;5;28mprint\u001b[39m(\u001b[43ml\u001b[49m\u001b[43m[\u001b[49m\u001b[43mi\u001b[49m\u001b[43m]\u001b[49m)\n",
      "\u001b[0;31mIndexError\u001b[0m: list index out of range"
     ]
    }
   ],
   "source": [
    "l = [1,2,3,4,5,6,7,8]\n",
    "\n",
    "for i in range(len(l)+1):\n",
    "    print(l[i])"
   ]
  },
  {
   "cell_type": "code",
   "execution_count": 19,
   "id": "2c9caea9-0121-47da-94c1-ed6edb3fad88",
   "metadata": {},
   "outputs": [
    {
     "name": "stdout",
     "output_type": "stream",
     "text": [
      "1\n",
      "2\n",
      "3\n",
      "4\n",
      "5\n",
      "6\n",
      "7\n",
      "8\n",
      "list index out of range\n"
     ]
    }
   ],
   "source": [
    "l = [1,2,3,4,5,6,7,8]\n",
    "\n",
    "try:\n",
    "    for i in range(len(l)+1):\n",
    "        print(l[i])\n",
    "except Exception as e:\n",
    "        print(e)\n",
    "except IndexError:\n",
    "        print(\"Index error 123\")\n",
    "    "
   ]
  },
  {
   "cell_type": "code",
   "execution_count": 21,
   "id": "85e3359a-8fe2-42d8-b143-d47888cad1ae",
   "metadata": {},
   "outputs": [
    {
     "name": "stdin",
     "output_type": "stream",
     "text": [
      " Prabhu\n"
     ]
    },
    {
     "name": "stdout",
     "output_type": "stream",
     "text": [
      "invalid literal for int() with base 10: 'Prabhu'\n",
      "Prabhu\n"
     ]
    }
   ],
   "source": [
    "try:\n",
    "    a=int(input())\n",
    "    b=int(input())\n",
    "except Exception as e:\n",
    "    print(e)\n",
    "print(\"Prabhu\")"
   ]
  },
  {
   "cell_type": "code",
   "execution_count": 29,
   "id": "b254caf2-9b47-43f5-812f-08115a9269ac",
   "metadata": {},
   "outputs": [
    {
     "name": "stdout",
     "output_type": "stream",
     "text": [
      "The  entry: a\n",
      "Error <class 'ValueError'> occured\n",
      "next entry\n",
      "The  entry: 0\n",
      "Error <class 'ZeroDivisionError'> occured\n",
      "next entry\n",
      "The  entry: 2\n"
     ]
    }
   ],
   "source": [
    "import sys\n",
    "\n",
    "l= ['a',0,2]\n",
    "\n",
    "for i in l:\n",
    "    try:\n",
    "        print(\"The  entry:\",i)\n",
    "        r=1/int(i)\n",
    "        break\n",
    "    except:\n",
    "        print(\"Error\", sys.exc_info()[0],\"occured\")\n",
    "        print(\"next entry\")\n",
    "\n",
    "        "
   ]
  },
  {
   "cell_type": "code",
   "execution_count": null,
   "id": "6c984719-245a-44b4-aa8e-712426c5d46e",
   "metadata": {},
   "outputs": [],
   "source": [
    "#else in exception handling\n",
    "try:\n",
    "    #logical condition\n",
    "except Exception as E:\n",
    "    #jump to this code, if any exception\n",
    "else:\n",
    "    #this block of code is executed when excpt block\n",
    "    #is NOT executed\n",
    "    "
   ]
  },
  {
   "cell_type": "code",
   "execution_count": 33,
   "id": "b3c9f6fe-d856-400e-8a41-056a675d7fa0",
   "metadata": {},
   "outputs": [
    {
     "name": "stdin",
     "output_type": "stream",
     "text": [
      " 2\n",
      " 0\n"
     ]
    },
    {
     "name": "stdout",
     "output_type": "stream",
     "text": [
      "division by zero\n"
     ]
    }
   ],
   "source": [
    "try: \n",
    "    a=int(input())\n",
    "    b=int(input())\n",
    "    c=a/b\n",
    "    print(\"answer: \",c)\n",
    "except Exception as e:\n",
    "    print(e)\n",
    "else:\n",
    "    print(\"In Else block\")"
   ]
  },
  {
   "cell_type": "code",
   "execution_count": 39,
   "id": "6ea0cf4d-8d9e-4179-ab4c-cec8ba9fd76c",
   "metadata": {},
   "outputs": [
    {
     "name": "stdin",
     "output_type": "stream",
     "text": [
      " 0\n",
      " 2\n"
     ]
    },
    {
     "name": "stdout",
     "output_type": "stream",
     "text": [
      "answer:  0.0\n",
      "In Finally block\n"
     ]
    }
   ],
   "source": [
    "#finally block it alwayas executes\n",
    "\n",
    "try: \n",
    "    a=int(input())\n",
    "    b=int(input())\n",
    "    c=a/b\n",
    "    print(\"answer: \",c)\n",
    "except Exception as e:\n",
    "    print(e)\n",
    "finally:\n",
    "    print(\"In Finally block\")"
   ]
  },
  {
   "cell_type": "code",
   "execution_count": 44,
   "id": "7f569881-2037-46e8-b616-b175dff32410",
   "metadata": {},
   "outputs": [
    {
     "name": "stdout",
     "output_type": "stream",
     "text": [
      "Outer try block\n",
      "nested try block\n",
      "Oter Execpt block\n",
      "division by zero error\n"
     ]
    }
   ],
   "source": [
    "x=10\n",
    "y=0\n",
    "\n",
    "try:\n",
    "    print(\"Outer try block\")\n",
    "    try:\n",
    "        print(\"nested try block\")\n",
    "        print(x/y)\n",
    "    except TypeError as te:\n",
    "        print(\"nested exceppt block\")\n",
    "        print(te)\n",
    "except ZeroDivisionError as ze:\n",
    "    print(\"Oter Execpt block\")\n",
    "    print(ze,\"error\")\n",
    "            "
   ]
  },
  {
   "cell_type": "code",
   "execution_count": 8,
   "id": "70e96a96-894b-496e-ba62-b72dc83b5b2b",
   "metadata": {},
   "outputs": [],
   "source": [
    "def func1():\n",
    "    Flag = True\n",
    "    while Flag:\n",
    "        try:\n",
    "            a= int(input(\"Enter an Integer\"))\n",
    "            if type(a)==int:\n",
    "                return \"yes,Integer\"\n",
    "            Flag=False\n",
    "            \n",
    "        except Exception as e:\n",
    "                print(\"Not an Integer\")\n",
    "    "
   ]
  },
  {
   "cell_type": "code",
   "execution_count": 9,
   "id": "f1bf1b66-303e-4f68-8ae1-8b717a97a6a1",
   "metadata": {},
   "outputs": [
    {
     "name": "stdin",
     "output_type": "stream",
     "text": [
      "Enter an Integer P\n"
     ]
    },
    {
     "name": "stdout",
     "output_type": "stream",
     "text": [
      "Not an Integer\n"
     ]
    },
    {
     "name": "stdin",
     "output_type": "stream",
     "text": [
      "Enter an Integer w\n"
     ]
    },
    {
     "name": "stdout",
     "output_type": "stream",
     "text": [
      "Not an Integer\n"
     ]
    },
    {
     "name": "stdin",
     "output_type": "stream",
     "text": [
      "Enter an Integer 1\n"
     ]
    },
    {
     "data": {
      "text/plain": [
       "'yes,Integer'"
      ]
     },
     "execution_count": 9,
     "metadata": {},
     "output_type": "execute_result"
    }
   ],
   "source": [
    "func1()\n"
   ]
  },
  {
   "cell_type": "code",
   "execution_count": null,
   "id": "5f0bc684-e71a-4846-9952-857032bb7e86",
   "metadata": {},
   "outputs": [],
   "source": [
    "\n"
   ]
  },
  {
   "cell_type": "code",
   "execution_count": null,
   "id": "1db1f731-077e-477b-9692-644087980f91",
   "metadata": {},
   "outputs": [],
   "source": []
  }
 ],
 "metadata": {
  "kernelspec": {
   "display_name": "Python 3 (ipykernel)",
   "language": "python",
   "name": "python3"
  },
  "language_info": {
   "codemirror_mode": {
    "name": "ipython",
    "version": 3
   },
   "file_extension": ".py",
   "mimetype": "text/x-python",
   "name": "python",
   "nbconvert_exporter": "python",
   "pygments_lexer": "ipython3",
   "version": "3.10.6"
  }
 },
 "nbformat": 4,
 "nbformat_minor": 5
}
